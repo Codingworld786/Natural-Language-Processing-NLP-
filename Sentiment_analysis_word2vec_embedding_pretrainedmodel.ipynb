{
  "cells": [
    {
      "cell_type": "code",
      "execution_count": 4,
      "id": "eNpXBWKhd2iN",
      "metadata": {
        "id": "eNpXBWKhd2iN"
      },
      "outputs": [],
      "source": [
        "import pandas as pd\n",
        "\n",
        "messages1=pd.read_csv(\"/content/Womens Clothing E-Commerce Reviews.csv\")"
      ]
    },
    {
      "cell_type": "code",
      "execution_count": null,
      "id": "b9eb6ece",
      "metadata": {
        "id": "b9eb6ece"
      },
      "outputs": [],
      "source": [
        "messages1"
      ]
    },
    {
      "cell_type": "code",
      "execution_count": 6,
      "id": "CssnXIB8ifR_",
      "metadata": {
        "colab": {
          "base_uri": "https://localhost:8080/"
        },
        "id": "CssnXIB8ifR_",
        "outputId": "73cac43c-689a-4900-f28c-66a9bbb20d97"
      },
      "outputs": [
        {
          "data": {
            "text/plain": [
              "(20333, 11)"
            ]
          },
          "execution_count": 6,
          "metadata": {},
          "output_type": "execute_result"
        }
      ],
      "source": [
        "messages1.shape"
      ]
    },
    {
      "cell_type": "code",
      "execution_count": 7,
      "id": "2aW52FVI8_9B",
      "metadata": {
        "id": "2aW52FVI8_9B"
      },
      "outputs": [],
      "source": [
        "messages=messages1.rename(columns={\"Review Text\": \"message\",\"Recommended IND\": \"label\"})"
      ]
    },
    {
      "cell_type": "code",
      "execution_count": 7,
      "id": "k0jOchSJ9nMs",
      "metadata": {
        "id": "k0jOchSJ9nMs"
      },
      "outputs": [],
      "source": []
    },
    {
      "cell_type": "code",
      "execution_count": 8,
      "id": "d7YwzCr69Msg",
      "metadata": {
        "id": "d7YwzCr69Msg"
      },
      "outputs": [],
      "source": [
        "messages=messages[[\"message\",\"label\"]]\n"
      ]
    },
    {
      "cell_type": "code",
      "execution_count": 9,
      "id": "Z8wPe9k6928M",
      "metadata": {
        "colab": {
          "base_uri": "https://localhost:8080/"
        },
        "id": "Z8wPe9k6928M",
        "outputId": "25ba9f22-ea8d-4eab-9079-c6b8bcb5b1ce"
      },
      "outputs": [
        {
          "data": {
            "text/plain": [
              "(20333, 2)"
            ]
          },
          "execution_count": 9,
          "metadata": {},
          "output_type": "execute_result"
        }
      ],
      "source": [
        "messages.shape"
      ]
    },
    {
      "cell_type": "code",
      "execution_count": 10,
      "id": "H98Mjivo-KJS",
      "metadata": {
        "colab": {
          "base_uri": "https://localhost:8080/"
        },
        "id": "H98Mjivo-KJS",
        "outputId": "c393c0fc-2759-49ef-9adc-a00fa5301981"
      },
      "outputs": [
        {
          "name": "stdout",
          "output_type": "stream",
          "text": [
            "1.0    16705\n",
            "0.0     3627\n",
            "Name: label, dtype: int64\n"
          ]
        }
      ],
      "source": [
        "label_counts = messages['label'].value_counts()\n",
        "# zero_label_counts = messages['label'].value_counts()\n",
        "print(label_counts)"
      ]
    },
    {
      "cell_type": "code",
      "execution_count": 11,
      "id": "CsfZm1tKihxo",
      "metadata": {
        "id": "CsfZm1tKihxo"
      },
      "outputs": [],
      "source": [
        "# i will only work with 5000 samples\n",
        "messages = messages.head(10000)"
      ]
    },
    {
      "cell_type": "code",
      "execution_count": 12,
      "id": "CAv_DqkAeaqZ",
      "metadata": {
        "id": "CAv_DqkAeaqZ"
      },
      "outputs": [],
      "source": [
        "messages=messages.rename(columns={\"Review Text\": \"message\",\"Recommended IND\": \"label\"})"
      ]
    },
    {
      "cell_type": "code",
      "execution_count": 13,
      "id": "7O1LUHv8isC_",
      "metadata": {
        "colab": {
          "base_uri": "https://localhost:8080/"
        },
        "id": "7O1LUHv8isC_",
        "outputId": "4087111a-b412-40bc-a9ce-67fadb2d84ab"
      },
      "outputs": [
        {
          "data": {
            "text/plain": [
              "(10000, 2)"
            ]
          },
          "execution_count": 13,
          "metadata": {},
          "output_type": "execute_result"
        }
      ],
      "source": [
        "messages.shape"
      ]
    },
    {
      "cell_type": "code",
      "execution_count": null,
      "id": "S-0riLDt76ZE",
      "metadata": {
        "id": "S-0riLDt76ZE"
      },
      "outputs": [],
      "source": [
        "label_count=messages.value_counts()\n",
        "label_count"
      ]
    },
    {
      "cell_type": "code",
      "execution_count": 14,
      "id": "8KtluzImieIB",
      "metadata": {
        "id": "8KtluzImieIB"
      },
      "outputs": [],
      "source": []
    },
    {
      "cell_type": "code",
      "execution_count": 15,
      "id": "mxURHwEde-5t",
      "metadata": {
        "colab": {
          "base_uri": "https://localhost:8080/",
          "height": 423
        },
        "id": "mxURHwEde-5t",
        "outputId": "6a7d6faa-05dc-4af2-d002-b2ee2b214158"
      },
      "outputs": [
        {
          "data": {
            "text/html": [
              "\n",
              "  <div id=\"df-14e4bca9-f7d1-4a0a-96dd-1d3a62557a72\" class=\"colab-df-container\">\n",
              "    <div>\n",
              "<style scoped>\n",
              "    .dataframe tbody tr th:only-of-type {\n",
              "        vertical-align: middle;\n",
              "    }\n",
              "\n",
              "    .dataframe tbody tr th {\n",
              "        vertical-align: top;\n",
              "    }\n",
              "\n",
              "    .dataframe thead th {\n",
              "        text-align: right;\n",
              "    }\n",
              "</style>\n",
              "<table border=\"1\" class=\"dataframe\">\n",
              "  <thead>\n",
              "    <tr style=\"text-align: right;\">\n",
              "      <th></th>\n",
              "      <th>message</th>\n",
              "      <th>label</th>\n",
              "    </tr>\n",
              "  </thead>\n",
              "  <tbody>\n",
              "    <tr>\n",
              "      <th>0</th>\n",
              "      <td>Absolutely wonderful - silky and sexy and comf...</td>\n",
              "      <td>1.0</td>\n",
              "    </tr>\n",
              "    <tr>\n",
              "      <th>1</th>\n",
              "      <td>Love this dress!  it's sooo pretty.  i happene...</td>\n",
              "      <td>1.0</td>\n",
              "    </tr>\n",
              "    <tr>\n",
              "      <th>2</th>\n",
              "      <td>I had such high hopes for this dress and reall...</td>\n",
              "      <td>0.0</td>\n",
              "    </tr>\n",
              "    <tr>\n",
              "      <th>3</th>\n",
              "      <td>I love, love, love this jumpsuit. it's fun, fl...</td>\n",
              "      <td>1.0</td>\n",
              "    </tr>\n",
              "    <tr>\n",
              "      <th>4</th>\n",
              "      <td>This shirt is very flattering to all due to th...</td>\n",
              "      <td>1.0</td>\n",
              "    </tr>\n",
              "    <tr>\n",
              "      <th>...</th>\n",
              "      <td>...</td>\n",
              "      <td>...</td>\n",
              "    </tr>\n",
              "    <tr>\n",
              "      <th>9995</th>\n",
              "      <td>This dress is quite adorable - the pattern, sl...</td>\n",
              "      <td>1.0</td>\n",
              "    </tr>\n",
              "    <tr>\n",
              "      <th>9996</th>\n",
              "      <td>Love this dress! bodice and lace at bottom giv...</td>\n",
              "      <td>1.0</td>\n",
              "    </tr>\n",
              "    <tr>\n",
              "      <th>9997</th>\n",
              "      <td>The cut is perfect and the rose color is so pr...</td>\n",
              "      <td>1.0</td>\n",
              "    </tr>\n",
              "    <tr>\n",
              "      <th>9998</th>\n",
              "      <td>I love this shirt so i bought both colors. i w...</td>\n",
              "      <td>1.0</td>\n",
              "    </tr>\n",
              "    <tr>\n",
              "      <th>9999</th>\n",
              "      <td>I adore this top! it's comfortable and cute. t...</td>\n",
              "      <td>1.0</td>\n",
              "    </tr>\n",
              "  </tbody>\n",
              "</table>\n",
              "<p>10000 rows × 2 columns</p>\n",
              "</div>\n",
              "    <div class=\"colab-df-buttons\">\n",
              "\n",
              "  <div class=\"colab-df-container\">\n",
              "    <button class=\"colab-df-convert\" onclick=\"convertToInteractive('df-14e4bca9-f7d1-4a0a-96dd-1d3a62557a72')\"\n",
              "            title=\"Convert this dataframe to an interactive table.\"\n",
              "            style=\"display:none;\">\n",
              "\n",
              "  <svg xmlns=\"http://www.w3.org/2000/svg\" height=\"24px\" viewBox=\"0 -960 960 960\">\n",
              "    <path d=\"M120-120v-720h720v720H120Zm60-500h600v-160H180v160Zm220 220h160v-160H400v160Zm0 220h160v-160H400v160ZM180-400h160v-160H180v160Zm440 0h160v-160H620v160ZM180-180h160v-160H180v160Zm440 0h160v-160H620v160Z\"/>\n",
              "  </svg>\n",
              "    </button>\n",
              "\n",
              "  <style>\n",
              "    .colab-df-container {\n",
              "      display:flex;\n",
              "      gap: 12px;\n",
              "    }\n",
              "\n",
              "    .colab-df-convert {\n",
              "      background-color: #E8F0FE;\n",
              "      border: none;\n",
              "      border-radius: 50%;\n",
              "      cursor: pointer;\n",
              "      display: none;\n",
              "      fill: #1967D2;\n",
              "      height: 32px;\n",
              "      padding: 0 0 0 0;\n",
              "      width: 32px;\n",
              "    }\n",
              "\n",
              "    .colab-df-convert:hover {\n",
              "      background-color: #E2EBFA;\n",
              "      box-shadow: 0px 1px 2px rgba(60, 64, 67, 0.3), 0px 1px 3px 1px rgba(60, 64, 67, 0.15);\n",
              "      fill: #174EA6;\n",
              "    }\n",
              "\n",
              "    .colab-df-buttons div {\n",
              "      margin-bottom: 4px;\n",
              "    }\n",
              "\n",
              "    [theme=dark] .colab-df-convert {\n",
              "      background-color: #3B4455;\n",
              "      fill: #D2E3FC;\n",
              "    }\n",
              "\n",
              "    [theme=dark] .colab-df-convert:hover {\n",
              "      background-color: #434B5C;\n",
              "      box-shadow: 0px 1px 3px 1px rgba(0, 0, 0, 0.15);\n",
              "      filter: drop-shadow(0px 1px 2px rgba(0, 0, 0, 0.3));\n",
              "      fill: #FFFFFF;\n",
              "    }\n",
              "  </style>\n",
              "\n",
              "    <script>\n",
              "      const buttonEl =\n",
              "        document.querySelector('#df-14e4bca9-f7d1-4a0a-96dd-1d3a62557a72 button.colab-df-convert');\n",
              "      buttonEl.style.display =\n",
              "        google.colab.kernel.accessAllowed ? 'block' : 'none';\n",
              "\n",
              "      async function convertToInteractive(key) {\n",
              "        const element = document.querySelector('#df-14e4bca9-f7d1-4a0a-96dd-1d3a62557a72');\n",
              "        const dataTable =\n",
              "          await google.colab.kernel.invokeFunction('convertToInteractive',\n",
              "                                                    [key], {});\n",
              "        if (!dataTable) return;\n",
              "\n",
              "        const docLinkHtml = 'Like what you see? Visit the ' +\n",
              "          '<a target=\"_blank\" href=https://colab.research.google.com/notebooks/data_table.ipynb>data table notebook</a>'\n",
              "          + ' to learn more about interactive tables.';\n",
              "        element.innerHTML = '';\n",
              "        dataTable['output_type'] = 'display_data';\n",
              "        await google.colab.output.renderOutput(dataTable, element);\n",
              "        const docLink = document.createElement('div');\n",
              "        docLink.innerHTML = docLinkHtml;\n",
              "        element.appendChild(docLink);\n",
              "      }\n",
              "    </script>\n",
              "  </div>\n",
              "\n",
              "\n",
              "<div id=\"df-c337121c-993a-4e8a-a55a-409b0d22cabf\">\n",
              "  <button class=\"colab-df-quickchart\" onclick=\"quickchart('df-c337121c-993a-4e8a-a55a-409b0d22cabf')\"\n",
              "            title=\"Suggest charts\"\n",
              "            style=\"display:none;\">\n",
              "\n",
              "<svg xmlns=\"http://www.w3.org/2000/svg\" height=\"24px\"viewBox=\"0 0 24 24\"\n",
              "     width=\"24px\">\n",
              "    <g>\n",
              "        <path d=\"M19 3H5c-1.1 0-2 .9-2 2v14c0 1.1.9 2 2 2h14c1.1 0 2-.9 2-2V5c0-1.1-.9-2-2-2zM9 17H7v-7h2v7zm4 0h-2V7h2v10zm4 0h-2v-4h2v4z\"/>\n",
              "    </g>\n",
              "</svg>\n",
              "  </button>\n",
              "\n",
              "<style>\n",
              "  .colab-df-quickchart {\n",
              "      --bg-color: #E8F0FE;\n",
              "      --fill-color: #1967D2;\n",
              "      --hover-bg-color: #E2EBFA;\n",
              "      --hover-fill-color: #174EA6;\n",
              "      --disabled-fill-color: #AAA;\n",
              "      --disabled-bg-color: #DDD;\n",
              "  }\n",
              "\n",
              "  [theme=dark] .colab-df-quickchart {\n",
              "      --bg-color: #3B4455;\n",
              "      --fill-color: #D2E3FC;\n",
              "      --hover-bg-color: #434B5C;\n",
              "      --hover-fill-color: #FFFFFF;\n",
              "      --disabled-bg-color: #3B4455;\n",
              "      --disabled-fill-color: #666;\n",
              "  }\n",
              "\n",
              "  .colab-df-quickchart {\n",
              "    background-color: var(--bg-color);\n",
              "    border: none;\n",
              "    border-radius: 50%;\n",
              "    cursor: pointer;\n",
              "    display: none;\n",
              "    fill: var(--fill-color);\n",
              "    height: 32px;\n",
              "    padding: 0;\n",
              "    width: 32px;\n",
              "  }\n",
              "\n",
              "  .colab-df-quickchart:hover {\n",
              "    background-color: var(--hover-bg-color);\n",
              "    box-shadow: 0 1px 2px rgba(60, 64, 67, 0.3), 0 1px 3px 1px rgba(60, 64, 67, 0.15);\n",
              "    fill: var(--button-hover-fill-color);\n",
              "  }\n",
              "\n",
              "  .colab-df-quickchart-complete:disabled,\n",
              "  .colab-df-quickchart-complete:disabled:hover {\n",
              "    background-color: var(--disabled-bg-color);\n",
              "    fill: var(--disabled-fill-color);\n",
              "    box-shadow: none;\n",
              "  }\n",
              "\n",
              "  .colab-df-spinner {\n",
              "    border: 2px solid var(--fill-color);\n",
              "    border-color: transparent;\n",
              "    border-bottom-color: var(--fill-color);\n",
              "    animation:\n",
              "      spin 1s steps(1) infinite;\n",
              "  }\n",
              "\n",
              "  @keyframes spin {\n",
              "    0% {\n",
              "      border-color: transparent;\n",
              "      border-bottom-color: var(--fill-color);\n",
              "      border-left-color: var(--fill-color);\n",
              "    }\n",
              "    20% {\n",
              "      border-color: transparent;\n",
              "      border-left-color: var(--fill-color);\n",
              "      border-top-color: var(--fill-color);\n",
              "    }\n",
              "    30% {\n",
              "      border-color: transparent;\n",
              "      border-left-color: var(--fill-color);\n",
              "      border-top-color: var(--fill-color);\n",
              "      border-right-color: var(--fill-color);\n",
              "    }\n",
              "    40% {\n",
              "      border-color: transparent;\n",
              "      border-right-color: var(--fill-color);\n",
              "      border-top-color: var(--fill-color);\n",
              "    }\n",
              "    60% {\n",
              "      border-color: transparent;\n",
              "      border-right-color: var(--fill-color);\n",
              "    }\n",
              "    80% {\n",
              "      border-color: transparent;\n",
              "      border-right-color: var(--fill-color);\n",
              "      border-bottom-color: var(--fill-color);\n",
              "    }\n",
              "    90% {\n",
              "      border-color: transparent;\n",
              "      border-bottom-color: var(--fill-color);\n",
              "    }\n",
              "  }\n",
              "</style>\n",
              "\n",
              "  <script>\n",
              "    async function quickchart(key) {\n",
              "      const quickchartButtonEl =\n",
              "        document.querySelector('#' + key + ' button');\n",
              "      quickchartButtonEl.disabled = true;  // To prevent multiple clicks.\n",
              "      quickchartButtonEl.classList.add('colab-df-spinner');\n",
              "      try {\n",
              "        const charts = await google.colab.kernel.invokeFunction(\n",
              "            'suggestCharts', [key], {});\n",
              "      } catch (error) {\n",
              "        console.error('Error during call to suggestCharts:', error);\n",
              "      }\n",
              "      quickchartButtonEl.classList.remove('colab-df-spinner');\n",
              "      quickchartButtonEl.classList.add('colab-df-quickchart-complete');\n",
              "    }\n",
              "    (() => {\n",
              "      let quickchartButtonEl =\n",
              "        document.querySelector('#df-c337121c-993a-4e8a-a55a-409b0d22cabf button');\n",
              "      quickchartButtonEl.style.display =\n",
              "        google.colab.kernel.accessAllowed ? 'block' : 'none';\n",
              "    })();\n",
              "  </script>\n",
              "</div>\n",
              "\n",
              "  <div id=\"id_60c6fae2-c1f7-434f-9bf8-e6c30bd5d6da\">\n",
              "    <style>\n",
              "      .colab-df-generate {\n",
              "        background-color: #E8F0FE;\n",
              "        border: none;\n",
              "        border-radius: 50%;\n",
              "        cursor: pointer;\n",
              "        display: none;\n",
              "        fill: #1967D2;\n",
              "        height: 32px;\n",
              "        padding: 0 0 0 0;\n",
              "        width: 32px;\n",
              "      }\n",
              "\n",
              "      .colab-df-generate:hover {\n",
              "        background-color: #E2EBFA;\n",
              "        box-shadow: 0px 1px 2px rgba(60, 64, 67, 0.3), 0px 1px 3px 1px rgba(60, 64, 67, 0.15);\n",
              "        fill: #174EA6;\n",
              "      }\n",
              "\n",
              "      [theme=dark] .colab-df-generate {\n",
              "        background-color: #3B4455;\n",
              "        fill: #D2E3FC;\n",
              "      }\n",
              "\n",
              "      [theme=dark] .colab-df-generate:hover {\n",
              "        background-color: #434B5C;\n",
              "        box-shadow: 0px 1px 3px 1px rgba(0, 0, 0, 0.15);\n",
              "        filter: drop-shadow(0px 1px 2px rgba(0, 0, 0, 0.3));\n",
              "        fill: #FFFFFF;\n",
              "      }\n",
              "    </style>\n",
              "    <button class=\"colab-df-generate\" onclick=\"generateWithVariable('messages')\"\n",
              "            title=\"Generate code using this dataframe.\"\n",
              "            style=\"display:none;\">\n",
              "\n",
              "  <svg xmlns=\"http://www.w3.org/2000/svg\" height=\"24px\"viewBox=\"0 0 24 24\"\n",
              "       width=\"24px\">\n",
              "    <path d=\"M7,19H8.4L18.45,9,17,7.55,7,17.6ZM5,21V16.75L18.45,3.32a2,2,0,0,1,2.83,0l1.4,1.43a1.91,1.91,0,0,1,.58,1.4,1.91,1.91,0,0,1-.58,1.4L9.25,21ZM18.45,9,17,7.55Zm-12,3A5.31,5.31,0,0,0,4.9,8.1,5.31,5.31,0,0,0,1,6.5,5.31,5.31,0,0,0,4.9,4.9,5.31,5.31,0,0,0,6.5,1,5.31,5.31,0,0,0,8.1,4.9,5.31,5.31,0,0,0,12,6.5,5.46,5.46,0,0,0,6.5,12Z\"/>\n",
              "  </svg>\n",
              "    </button>\n",
              "    <script>\n",
              "      (() => {\n",
              "      const buttonEl =\n",
              "        document.querySelector('#id_60c6fae2-c1f7-434f-9bf8-e6c30bd5d6da button.colab-df-generate');\n",
              "      buttonEl.style.display =\n",
              "        google.colab.kernel.accessAllowed ? 'block' : 'none';\n",
              "\n",
              "      buttonEl.onclick = () => {\n",
              "        google.colab.notebook.generateWithVariable('messages');\n",
              "      }\n",
              "      })();\n",
              "    </script>\n",
              "  </div>\n",
              "\n",
              "    </div>\n",
              "  </div>\n"
            ],
            "text/plain": [
              "                                                message  label\n",
              "0     Absolutely wonderful - silky and sexy and comf...    1.0\n",
              "1     Love this dress!  it's sooo pretty.  i happene...    1.0\n",
              "2     I had such high hopes for this dress and reall...    0.0\n",
              "3     I love, love, love this jumpsuit. it's fun, fl...    1.0\n",
              "4     This shirt is very flattering to all due to th...    1.0\n",
              "...                                                 ...    ...\n",
              "9995  This dress is quite adorable - the pattern, sl...    1.0\n",
              "9996  Love this dress! bodice and lace at bottom giv...    1.0\n",
              "9997  The cut is perfect and the rose color is so pr...    1.0\n",
              "9998  I love this shirt so i bought both colors. i w...    1.0\n",
              "9999  I adore this top! it's comfortable and cute. t...    1.0\n",
              "\n",
              "[10000 rows x 2 columns]"
            ]
          },
          "execution_count": 15,
          "metadata": {},
          "output_type": "execute_result"
        }
      ],
      "source": [
        "messages"
      ]
    },
    {
      "cell_type": "code",
      "execution_count": 16,
      "id": "PFNS57ZjeCLw",
      "metadata": {
        "id": "PFNS57ZjeCLw"
      },
      "outputs": [],
      "source": [
        "messages=messages[[\"message\",\"label\"]]\n"
      ]
    },
    {
      "cell_type": "code",
      "execution_count": 17,
      "id": "hEpR4WFIe94h",
      "metadata": {
        "colab": {
          "base_uri": "https://localhost:8080/",
          "height": 423
        },
        "id": "hEpR4WFIe94h",
        "outputId": "a00fe118-16f1-4e8f-9de6-44db73fad5d8"
      },
      "outputs": [
        {
          "data": {
            "text/html": [
              "\n",
              "  <div id=\"df-7d5f76f7-a727-4db0-bbd6-99004dcac1d7\" class=\"colab-df-container\">\n",
              "    <div>\n",
              "<style scoped>\n",
              "    .dataframe tbody tr th:only-of-type {\n",
              "        vertical-align: middle;\n",
              "    }\n",
              "\n",
              "    .dataframe tbody tr th {\n",
              "        vertical-align: top;\n",
              "    }\n",
              "\n",
              "    .dataframe thead th {\n",
              "        text-align: right;\n",
              "    }\n",
              "</style>\n",
              "<table border=\"1\" class=\"dataframe\">\n",
              "  <thead>\n",
              "    <tr style=\"text-align: right;\">\n",
              "      <th></th>\n",
              "      <th>message</th>\n",
              "      <th>label</th>\n",
              "    </tr>\n",
              "  </thead>\n",
              "  <tbody>\n",
              "    <tr>\n",
              "      <th>0</th>\n",
              "      <td>Absolutely wonderful - silky and sexy and comf...</td>\n",
              "      <td>1.0</td>\n",
              "    </tr>\n",
              "    <tr>\n",
              "      <th>1</th>\n",
              "      <td>Love this dress!  it's sooo pretty.  i happene...</td>\n",
              "      <td>1.0</td>\n",
              "    </tr>\n",
              "    <tr>\n",
              "      <th>2</th>\n",
              "      <td>I had such high hopes for this dress and reall...</td>\n",
              "      <td>0.0</td>\n",
              "    </tr>\n",
              "    <tr>\n",
              "      <th>3</th>\n",
              "      <td>I love, love, love this jumpsuit. it's fun, fl...</td>\n",
              "      <td>1.0</td>\n",
              "    </tr>\n",
              "    <tr>\n",
              "      <th>4</th>\n",
              "      <td>This shirt is very flattering to all due to th...</td>\n",
              "      <td>1.0</td>\n",
              "    </tr>\n",
              "    <tr>\n",
              "      <th>...</th>\n",
              "      <td>...</td>\n",
              "      <td>...</td>\n",
              "    </tr>\n",
              "    <tr>\n",
              "      <th>9995</th>\n",
              "      <td>This dress is quite adorable - the pattern, sl...</td>\n",
              "      <td>1.0</td>\n",
              "    </tr>\n",
              "    <tr>\n",
              "      <th>9996</th>\n",
              "      <td>Love this dress! bodice and lace at bottom giv...</td>\n",
              "      <td>1.0</td>\n",
              "    </tr>\n",
              "    <tr>\n",
              "      <th>9997</th>\n",
              "      <td>The cut is perfect and the rose color is so pr...</td>\n",
              "      <td>1.0</td>\n",
              "    </tr>\n",
              "    <tr>\n",
              "      <th>9998</th>\n",
              "      <td>I love this shirt so i bought both colors. i w...</td>\n",
              "      <td>1.0</td>\n",
              "    </tr>\n",
              "    <tr>\n",
              "      <th>9999</th>\n",
              "      <td>I adore this top! it's comfortable and cute. t...</td>\n",
              "      <td>1.0</td>\n",
              "    </tr>\n",
              "  </tbody>\n",
              "</table>\n",
              "<p>10000 rows × 2 columns</p>\n",
              "</div>\n",
              "    <div class=\"colab-df-buttons\">\n",
              "\n",
              "  <div class=\"colab-df-container\">\n",
              "    <button class=\"colab-df-convert\" onclick=\"convertToInteractive('df-7d5f76f7-a727-4db0-bbd6-99004dcac1d7')\"\n",
              "            title=\"Convert this dataframe to an interactive table.\"\n",
              "            style=\"display:none;\">\n",
              "\n",
              "  <svg xmlns=\"http://www.w3.org/2000/svg\" height=\"24px\" viewBox=\"0 -960 960 960\">\n",
              "    <path d=\"M120-120v-720h720v720H120Zm60-500h600v-160H180v160Zm220 220h160v-160H400v160Zm0 220h160v-160H400v160ZM180-400h160v-160H180v160Zm440 0h160v-160H620v160ZM180-180h160v-160H180v160Zm440 0h160v-160H620v160Z\"/>\n",
              "  </svg>\n",
              "    </button>\n",
              "\n",
              "  <style>\n",
              "    .colab-df-container {\n",
              "      display:flex;\n",
              "      gap: 12px;\n",
              "    }\n",
              "\n",
              "    .colab-df-convert {\n",
              "      background-color: #E8F0FE;\n",
              "      border: none;\n",
              "      border-radius: 50%;\n",
              "      cursor: pointer;\n",
              "      display: none;\n",
              "      fill: #1967D2;\n",
              "      height: 32px;\n",
              "      padding: 0 0 0 0;\n",
              "      width: 32px;\n",
              "    }\n",
              "\n",
              "    .colab-df-convert:hover {\n",
              "      background-color: #E2EBFA;\n",
              "      box-shadow: 0px 1px 2px rgba(60, 64, 67, 0.3), 0px 1px 3px 1px rgba(60, 64, 67, 0.15);\n",
              "      fill: #174EA6;\n",
              "    }\n",
              "\n",
              "    .colab-df-buttons div {\n",
              "      margin-bottom: 4px;\n",
              "    }\n",
              "\n",
              "    [theme=dark] .colab-df-convert {\n",
              "      background-color: #3B4455;\n",
              "      fill: #D2E3FC;\n",
              "    }\n",
              "\n",
              "    [theme=dark] .colab-df-convert:hover {\n",
              "      background-color: #434B5C;\n",
              "      box-shadow: 0px 1px 3px 1px rgba(0, 0, 0, 0.15);\n",
              "      filter: drop-shadow(0px 1px 2px rgba(0, 0, 0, 0.3));\n",
              "      fill: #FFFFFF;\n",
              "    }\n",
              "  </style>\n",
              "\n",
              "    <script>\n",
              "      const buttonEl =\n",
              "        document.querySelector('#df-7d5f76f7-a727-4db0-bbd6-99004dcac1d7 button.colab-df-convert');\n",
              "      buttonEl.style.display =\n",
              "        google.colab.kernel.accessAllowed ? 'block' : 'none';\n",
              "\n",
              "      async function convertToInteractive(key) {\n",
              "        const element = document.querySelector('#df-7d5f76f7-a727-4db0-bbd6-99004dcac1d7');\n",
              "        const dataTable =\n",
              "          await google.colab.kernel.invokeFunction('convertToInteractive',\n",
              "                                                    [key], {});\n",
              "        if (!dataTable) return;\n",
              "\n",
              "        const docLinkHtml = 'Like what you see? Visit the ' +\n",
              "          '<a target=\"_blank\" href=https://colab.research.google.com/notebooks/data_table.ipynb>data table notebook</a>'\n",
              "          + ' to learn more about interactive tables.';\n",
              "        element.innerHTML = '';\n",
              "        dataTable['output_type'] = 'display_data';\n",
              "        await google.colab.output.renderOutput(dataTable, element);\n",
              "        const docLink = document.createElement('div');\n",
              "        docLink.innerHTML = docLinkHtml;\n",
              "        element.appendChild(docLink);\n",
              "      }\n",
              "    </script>\n",
              "  </div>\n",
              "\n",
              "\n",
              "<div id=\"df-1430aa4a-91c9-4e36-9e2a-450a335777e8\">\n",
              "  <button class=\"colab-df-quickchart\" onclick=\"quickchart('df-1430aa4a-91c9-4e36-9e2a-450a335777e8')\"\n",
              "            title=\"Suggest charts\"\n",
              "            style=\"display:none;\">\n",
              "\n",
              "<svg xmlns=\"http://www.w3.org/2000/svg\" height=\"24px\"viewBox=\"0 0 24 24\"\n",
              "     width=\"24px\">\n",
              "    <g>\n",
              "        <path d=\"M19 3H5c-1.1 0-2 .9-2 2v14c0 1.1.9 2 2 2h14c1.1 0 2-.9 2-2V5c0-1.1-.9-2-2-2zM9 17H7v-7h2v7zm4 0h-2V7h2v10zm4 0h-2v-4h2v4z\"/>\n",
              "    </g>\n",
              "</svg>\n",
              "  </button>\n",
              "\n",
              "<style>\n",
              "  .colab-df-quickchart {\n",
              "      --bg-color: #E8F0FE;\n",
              "      --fill-color: #1967D2;\n",
              "      --hover-bg-color: #E2EBFA;\n",
              "      --hover-fill-color: #174EA6;\n",
              "      --disabled-fill-color: #AAA;\n",
              "      --disabled-bg-color: #DDD;\n",
              "  }\n",
              "\n",
              "  [theme=dark] .colab-df-quickchart {\n",
              "      --bg-color: #3B4455;\n",
              "      --fill-color: #D2E3FC;\n",
              "      --hover-bg-color: #434B5C;\n",
              "      --hover-fill-color: #FFFFFF;\n",
              "      --disabled-bg-color: #3B4455;\n",
              "      --disabled-fill-color: #666;\n",
              "  }\n",
              "\n",
              "  .colab-df-quickchart {\n",
              "    background-color: var(--bg-color);\n",
              "    border: none;\n",
              "    border-radius: 50%;\n",
              "    cursor: pointer;\n",
              "    display: none;\n",
              "    fill: var(--fill-color);\n",
              "    height: 32px;\n",
              "    padding: 0;\n",
              "    width: 32px;\n",
              "  }\n",
              "\n",
              "  .colab-df-quickchart:hover {\n",
              "    background-color: var(--hover-bg-color);\n",
              "    box-shadow: 0 1px 2px rgba(60, 64, 67, 0.3), 0 1px 3px 1px rgba(60, 64, 67, 0.15);\n",
              "    fill: var(--button-hover-fill-color);\n",
              "  }\n",
              "\n",
              "  .colab-df-quickchart-complete:disabled,\n",
              "  .colab-df-quickchart-complete:disabled:hover {\n",
              "    background-color: var(--disabled-bg-color);\n",
              "    fill: var(--disabled-fill-color);\n",
              "    box-shadow: none;\n",
              "  }\n",
              "\n",
              "  .colab-df-spinner {\n",
              "    border: 2px solid var(--fill-color);\n",
              "    border-color: transparent;\n",
              "    border-bottom-color: var(--fill-color);\n",
              "    animation:\n",
              "      spin 1s steps(1) infinite;\n",
              "  }\n",
              "\n",
              "  @keyframes spin {\n",
              "    0% {\n",
              "      border-color: transparent;\n",
              "      border-bottom-color: var(--fill-color);\n",
              "      border-left-color: var(--fill-color);\n",
              "    }\n",
              "    20% {\n",
              "      border-color: transparent;\n",
              "      border-left-color: var(--fill-color);\n",
              "      border-top-color: var(--fill-color);\n",
              "    }\n",
              "    30% {\n",
              "      border-color: transparent;\n",
              "      border-left-color: var(--fill-color);\n",
              "      border-top-color: var(--fill-color);\n",
              "      border-right-color: var(--fill-color);\n",
              "    }\n",
              "    40% {\n",
              "      border-color: transparent;\n",
              "      border-right-color: var(--fill-color);\n",
              "      border-top-color: var(--fill-color);\n",
              "    }\n",
              "    60% {\n",
              "      border-color: transparent;\n",
              "      border-right-color: var(--fill-color);\n",
              "    }\n",
              "    80% {\n",
              "      border-color: transparent;\n",
              "      border-right-color: var(--fill-color);\n",
              "      border-bottom-color: var(--fill-color);\n",
              "    }\n",
              "    90% {\n",
              "      border-color: transparent;\n",
              "      border-bottom-color: var(--fill-color);\n",
              "    }\n",
              "  }\n",
              "</style>\n",
              "\n",
              "  <script>\n",
              "    async function quickchart(key) {\n",
              "      const quickchartButtonEl =\n",
              "        document.querySelector('#' + key + ' button');\n",
              "      quickchartButtonEl.disabled = true;  // To prevent multiple clicks.\n",
              "      quickchartButtonEl.classList.add('colab-df-spinner');\n",
              "      try {\n",
              "        const charts = await google.colab.kernel.invokeFunction(\n",
              "            'suggestCharts', [key], {});\n",
              "      } catch (error) {\n",
              "        console.error('Error during call to suggestCharts:', error);\n",
              "      }\n",
              "      quickchartButtonEl.classList.remove('colab-df-spinner');\n",
              "      quickchartButtonEl.classList.add('colab-df-quickchart-complete');\n",
              "    }\n",
              "    (() => {\n",
              "      let quickchartButtonEl =\n",
              "        document.querySelector('#df-1430aa4a-91c9-4e36-9e2a-450a335777e8 button');\n",
              "      quickchartButtonEl.style.display =\n",
              "        google.colab.kernel.accessAllowed ? 'block' : 'none';\n",
              "    })();\n",
              "  </script>\n",
              "</div>\n",
              "\n",
              "  <div id=\"id_2cee07b4-cac2-45e7-8daf-798261d855ab\">\n",
              "    <style>\n",
              "      .colab-df-generate {\n",
              "        background-color: #E8F0FE;\n",
              "        border: none;\n",
              "        border-radius: 50%;\n",
              "        cursor: pointer;\n",
              "        display: none;\n",
              "        fill: #1967D2;\n",
              "        height: 32px;\n",
              "        padding: 0 0 0 0;\n",
              "        width: 32px;\n",
              "      }\n",
              "\n",
              "      .colab-df-generate:hover {\n",
              "        background-color: #E2EBFA;\n",
              "        box-shadow: 0px 1px 2px rgba(60, 64, 67, 0.3), 0px 1px 3px 1px rgba(60, 64, 67, 0.15);\n",
              "        fill: #174EA6;\n",
              "      }\n",
              "\n",
              "      [theme=dark] .colab-df-generate {\n",
              "        background-color: #3B4455;\n",
              "        fill: #D2E3FC;\n",
              "      }\n",
              "\n",
              "      [theme=dark] .colab-df-generate:hover {\n",
              "        background-color: #434B5C;\n",
              "        box-shadow: 0px 1px 3px 1px rgba(0, 0, 0, 0.15);\n",
              "        filter: drop-shadow(0px 1px 2px rgba(0, 0, 0, 0.3));\n",
              "        fill: #FFFFFF;\n",
              "      }\n",
              "    </style>\n",
              "    <button class=\"colab-df-generate\" onclick=\"generateWithVariable('messages')\"\n",
              "            title=\"Generate code using this dataframe.\"\n",
              "            style=\"display:none;\">\n",
              "\n",
              "  <svg xmlns=\"http://www.w3.org/2000/svg\" height=\"24px\"viewBox=\"0 0 24 24\"\n",
              "       width=\"24px\">\n",
              "    <path d=\"M7,19H8.4L18.45,9,17,7.55,7,17.6ZM5,21V16.75L18.45,3.32a2,2,0,0,1,2.83,0l1.4,1.43a1.91,1.91,0,0,1,.58,1.4,1.91,1.91,0,0,1-.58,1.4L9.25,21ZM18.45,9,17,7.55Zm-12,3A5.31,5.31,0,0,0,4.9,8.1,5.31,5.31,0,0,0,1,6.5,5.31,5.31,0,0,0,4.9,4.9,5.31,5.31,0,0,0,6.5,1,5.31,5.31,0,0,0,8.1,4.9,5.31,5.31,0,0,0,12,6.5,5.46,5.46,0,0,0,6.5,12Z\"/>\n",
              "  </svg>\n",
              "    </button>\n",
              "    <script>\n",
              "      (() => {\n",
              "      const buttonEl =\n",
              "        document.querySelector('#id_2cee07b4-cac2-45e7-8daf-798261d855ab button.colab-df-generate');\n",
              "      buttonEl.style.display =\n",
              "        google.colab.kernel.accessAllowed ? 'block' : 'none';\n",
              "\n",
              "      buttonEl.onclick = () => {\n",
              "        google.colab.notebook.generateWithVariable('messages');\n",
              "      }\n",
              "      })();\n",
              "    </script>\n",
              "  </div>\n",
              "\n",
              "    </div>\n",
              "  </div>\n"
            ],
            "text/plain": [
              "                                                message  label\n",
              "0     Absolutely wonderful - silky and sexy and comf...    1.0\n",
              "1     Love this dress!  it's sooo pretty.  i happene...    1.0\n",
              "2     I had such high hopes for this dress and reall...    0.0\n",
              "3     I love, love, love this jumpsuit. it's fun, fl...    1.0\n",
              "4     This shirt is very flattering to all due to th...    1.0\n",
              "...                                                 ...    ...\n",
              "9995  This dress is quite adorable - the pattern, sl...    1.0\n",
              "9996  Love this dress! bodice and lace at bottom giv...    1.0\n",
              "9997  The cut is perfect and the rose color is so pr...    1.0\n",
              "9998  I love this shirt so i bought both colors. i w...    1.0\n",
              "9999  I adore this top! it's comfortable and cute. t...    1.0\n",
              "\n",
              "[10000 rows x 2 columns]"
            ]
          },
          "execution_count": 17,
          "metadata": {},
          "output_type": "execute_result"
        }
      ],
      "source": [
        "messages"
      ]
    },
    {
      "cell_type": "code",
      "execution_count": 18,
      "id": "051d9aa4",
      "metadata": {
        "colab": {
          "base_uri": "https://localhost:8080/",
          "height": 70
        },
        "id": "051d9aa4",
        "outputId": "42081a42-7c21-47b4-c2fd-c13c162f839c"
      },
      "outputs": [
        {
          "data": {
            "application/vnd.google.colaboratory.intrinsic+json": {
              "type": "string"
            },
            "text/plain": [
              "'This vest is very warm and soft. it is actually a fleece that almost appears as wool. the plaid is beautiful-a pretty soft pink with the black and charcoal colors. i ordered a size large and the fit is okay. an xl would have been too big under the arms and in the bust area however, i would have liked it a little looser in the bottom half. i kept the large as there is no closure to the vest. it just hangs open.'"
            ]
          },
          "execution_count": 18,
          "metadata": {},
          "output_type": "execute_result"
        }
      ],
      "source": [
        "messages['message'].loc[451]"
      ]
    },
    {
      "cell_type": "code",
      "execution_count": 19,
      "id": "ZJrTRPJ07Vwx",
      "metadata": {
        "colab": {
          "base_uri": "https://localhost:8080/"
        },
        "id": "ZJrTRPJ07Vwx",
        "outputId": "825d2d3f-1126-477b-e233-ce8727607d12"
      },
      "outputs": [
        {
          "data": {
            "text/plain": [
              "message    352\n",
              "label        0\n",
              "dtype: int64"
            ]
          },
          "execution_count": 19,
          "metadata": {},
          "output_type": "execute_result"
        }
      ],
      "source": [
        "messages.isnull().sum()"
      ]
    },
    {
      "cell_type": "code",
      "execution_count": 19,
      "id": "m_ca6l7R7WHC",
      "metadata": {
        "id": "m_ca6l7R7WHC"
      },
      "outputs": [],
      "source": []
    },
    {
      "cell_type": "code",
      "execution_count": 20,
      "id": "8a478076",
      "metadata": {
        "colab": {
          "base_uri": "https://localhost:8080/"
        },
        "id": "8a478076",
        "outputId": "48aa91ab-3b18-4131-a9e3-bcde19ec85e1"
      },
      "outputs": [
        {
          "name": "stderr",
          "output_type": "stream",
          "text": [
            "[nltk_data] Downloading package stopwords to /root/nltk_data...\n",
            "[nltk_data]   Unzipping corpora/stopwords.zip.\n"
          ]
        },
        {
          "data": {
            "text/plain": [
              "True"
            ]
          },
          "execution_count": 20,
          "metadata": {},
          "output_type": "execute_result"
        }
      ],
      "source": [
        "#Data cleaning and preprocessing\n",
        "import re\n",
        "import nltk\n",
        "nltk.download('stopwords')"
      ]
    },
    {
      "cell_type": "code",
      "execution_count": 21,
      "id": "cf237658",
      "metadata": {
        "id": "cf237658"
      },
      "outputs": [],
      "source": [
        "from nltk.corpus import stopwords\n",
        "from nltk.stem.porter import PorterStemmer\n",
        "ps = PorterStemmer()"
      ]
    },
    {
      "cell_type": "code",
      "execution_count": null,
      "id": "6iA9xK98g3oj",
      "metadata": {
        "id": "6iA9xK98g3oj"
      },
      "outputs": [],
      "source": [
        "for i in range(0, len(messages)):\n",
        "    if not isinstance(messages['message'][i], str):\n",
        "        print(type(messages['message'][i]))\n"
      ]
    },
    {
      "cell_type": "markdown",
      "id": "MonSeqpLh6Yt",
      "metadata": {
        "id": "MonSeqpLh6Yt"
      },
      "source": [
        "hence thatswhy we were facing issue in preprocessing out most of the inputs were float but all should be string"
      ]
    },
    {
      "cell_type": "markdown",
      "id": "dbvelZVUztRM",
      "metadata": {
        "id": "dbvelZVUztRM"
      },
      "source": [
        "# Preprocessing\n",
        "Stop words removal,\n",
        "lowerization,\n",
        "tokenization"
      ]
    },
    {
      "cell_type": "code",
      "execution_count": 23,
      "id": "jyGyp25shqpQ",
      "metadata": {
        "colab": {
          "base_uri": "https://localhost:8080/"
        },
        "id": "jyGyp25shqpQ",
        "outputId": "dfc0a97f-d503-4c84-87e3-9bcfccc731bc"
      },
      "outputs": [
        {
          "name": "stderr",
          "output_type": "stream",
          "text": [
            "<ipython-input-23-fffa32b80c6c>:13: SettingWithCopyWarning: \n",
            "A value is trying to be set on a copy of a slice from a DataFrame\n",
            "\n",
            "See the caveats in the documentation: https://pandas.pydata.org/pandas-docs/stable/user_guide/indexing.html#returning-a-view-versus-a-copy\n",
            "  messages['message'][i] = str(messages['message'][i])\n"
          ]
        }
      ],
      "source": [
        "import re\n",
        "from nltk.corpus import stopwords\n",
        "from nltk.stem import PorterStemmer\n",
        "\n",
        "# Assuming you have the necessary imports for re, stopwords, and PorterStemmer\n",
        "\n",
        "ps = PorterStemmer()\n",
        "\n",
        "corpus = []\n",
        "for i in range(0, len(messages)):\n",
        "    # Convert non-string values to strings\n",
        "    if not isinstance(messages['message'][i], str):\n",
        "        messages['message'][i] = str(messages['message'][i])\n",
        "\n",
        "# preprocessing\n",
        "    # Remove non-alphabetic characters, convert to lowercase, and perform stemming\n",
        "    review = re.sub('[^a-zA-Z]', ' ', messages['message'][i])\n",
        "    review = review.lower()\n",
        "    review = review.split()\n",
        "\n",
        "    review = [ps.stem(word) for word in review if not word in stopwords.words('english')]\n",
        "    review = ' '.join(review)\n",
        "    corpus.append(review)\n"
      ]
    },
    {
      "cell_type": "code",
      "execution_count": null,
      "id": "402411fe",
      "metadata": {
        "id": "402411fe"
      },
      "outputs": [],
      "source": [
        "corpus"
      ]
    },
    {
      "cell_type": "markdown",
      "id": "o_YmzRPe0ASV",
      "metadata": {
        "id": "o_YmzRPe0ASV"
      },
      "source": [
        "# BOW"
      ]
    },
    {
      "cell_type": "code",
      "execution_count": 25,
      "id": "5cfc914d",
      "metadata": {
        "id": "5cfc914d"
      },
      "outputs": [],
      "source": [
        "# Creating the Bag of Words model\n",
        "from sklearn.feature_extraction.text import CountVectorizer\n",
        "cv = CountVectorizer(max_features=2500)\n",
        "X = cv.fit_transform(corpus).toarray()"
      ]
    },
    {
      "cell_type": "code",
      "execution_count": 26,
      "id": "8edc6887",
      "metadata": {
        "id": "8edc6887"
      },
      "outputs": [],
      "source": [
        "y=pd.get_dummies(messages['label'])\n",
        "y=y.iloc[:,1].values"
      ]
    },
    {
      "cell_type": "code",
      "execution_count": 28,
      "id": "fF9CPQPTrAi7",
      "metadata": {
        "id": "fF9CPQPTrAi7"
      },
      "outputs": [],
      "source": [
        "from imblearn.over_sampling import RandomOverSampler\n",
        "import pandas as pd\n",
        "\n",
        "#  Instantiate the RandomOverSampler\n",
        "oversampler = RandomOverSampler(sampling_strategy='auto', random_state=42)  # You can adjust the sampling strategy\n",
        "X_resampled, y_resampled = oversampler.fit_resample(X, y)\n"
      ]
    },
    {
      "cell_type": "code",
      "execution_count": 29,
      "id": "HOPjzW4Dsala",
      "metadata": {
        "colab": {
          "base_uri": "https://localhost:8080/"
        },
        "id": "HOPjzW4Dsala",
        "outputId": "f1f61867-1e9d-4c0b-90bd-51fd650ecf02"
      },
      "outputs": [
        {
          "name": "stdout",
          "output_type": "stream",
          "text": [
            "1.0    8242\n",
            "0.0    1758\n",
            "Name: label, dtype: int64\n"
          ]
        }
      ],
      "source": [
        "label_counts_new = messages['label'].value_counts()\n",
        "# zero_label_counts = messages['label'].value_counts()\n",
        "print(label_counts_new)"
      ]
    },
    {
      "cell_type": "code",
      "execution_count": null,
      "id": "4b6c74a1",
      "metadata": {
        "id": "4b6c74a1"
      },
      "outputs": [],
      "source": [
        "# Train Test Split\n",
        "\n",
        "from sklearn.model_selection import train_test_split\n",
        "X_train, X_test, y_train, y_test = train_test_split(X, y, test_size = 0.20, random_state = 0)\n"
      ]
    },
    {
      "cell_type": "code",
      "execution_count": 73,
      "id": "69b19578",
      "metadata": {
        "id": "69b19578"
      },
      "outputs": [],
      "source": [
        "from sklearn.naive_bayes import MultinomialNB\n",
        "spam_detect_model = MultinomialNB().fit(X_train, y_train)"
      ]
    },
    {
      "cell_type": "code",
      "execution_count": 74,
      "id": "22de6e1c",
      "metadata": {
        "id": "22de6e1c"
      },
      "outputs": [],
      "source": [
        "#prediction\n",
        "y_pred=spam_detect_model.predict(X_test)"
      ]
    },
    {
      "cell_type": "code",
      "execution_count": 75,
      "id": "af5d88ec",
      "metadata": {
        "id": "af5d88ec"
      },
      "outputs": [],
      "source": [
        "from sklearn.metrics import accuracy_score,classification_report"
      ]
    },
    {
      "cell_type": "code",
      "execution_count": 76,
      "id": "c1ac248e",
      "metadata": {
        "colab": {
          "base_uri": "https://localhost:8080/"
        },
        "id": "c1ac248e",
        "outputId": "9ba7d10b-35ac-444d-c26d-c4954097cd1f"
      },
      "outputs": [
        {
          "name": "stdout",
          "output_type": "stream",
          "text": [
            "0.8835\n"
          ]
        }
      ],
      "source": [
        "score=accuracy_score(y_test,y_pred)\n",
        "print(score)"
      ]
    },
    {
      "cell_type": "code",
      "execution_count": 77,
      "id": "8996dae1",
      "metadata": {
        "colab": {
          "base_uri": "https://localhost:8080/"
        },
        "id": "8996dae1",
        "outputId": "952606c9-e475-4160-f741-ee3662d615d9"
      },
      "outputs": [
        {
          "name": "stdout",
          "output_type": "stream",
          "text": [
            "              precision    recall  f1-score   support\n",
            "\n",
            "           0       0.69      0.65      0.67       366\n",
            "           1       0.92      0.94      0.93      1634\n",
            "\n",
            "    accuracy                           0.88      2000\n",
            "   macro avg       0.81      0.79      0.80      2000\n",
            "weighted avg       0.88      0.88      0.88      2000\n",
            "\n"
          ]
        }
      ],
      "source": [
        "from sklearn.metrics import classification_report\n",
        "print(classification_report(y_pred,y_test))"
      ]
    },
    {
      "cell_type": "markdown",
      "id": "_nGpooo10b1z",
      "metadata": {
        "id": "_nGpooo10b1z"
      },
      "source": [
        "# Tf-IDF"
      ]
    },
    {
      "cell_type": "code",
      "execution_count": 78,
      "id": "93054d70",
      "metadata": {
        "id": "93054d70"
      },
      "outputs": [],
      "source": [
        "# Creating the TFIDF model\n",
        "from sklearn.feature_extraction.text import TfidfVectorizer\n",
        "tv = TfidfVectorizer(max_features=2500)\n",
        "X = tv.fit_transform(corpus).toarray()"
      ]
    },
    {
      "cell_type": "code",
      "execution_count": 79,
      "id": "652ab9b7",
      "metadata": {
        "id": "652ab9b7"
      },
      "outputs": [],
      "source": [
        "# Train Test Split\n",
        "\n",
        "from sklearn.model_selection import train_test_split\n",
        "X_train, X_test, y_train, y_test = train_test_split(X, y, test_size = 0.20, random_state = 0)\n"
      ]
    },
    {
      "cell_type": "code",
      "execution_count": 80,
      "id": "f8493bfd",
      "metadata": {
        "id": "f8493bfd"
      },
      "outputs": [],
      "source": [
        "from sklearn.naive_bayes import MultinomialNB\n",
        "spam_detect_model = MultinomialNB().fit(X_train, y_train)"
      ]
    },
    {
      "cell_type": "code",
      "execution_count": 81,
      "id": "ff04dc41",
      "metadata": {
        "id": "ff04dc41"
      },
      "outputs": [],
      "source": [
        "#prediction\n",
        "y_pred=spam_detect_model.predict(X_test)"
      ]
    },
    {
      "cell_type": "code",
      "execution_count": 82,
      "id": "4acc496f",
      "metadata": {
        "colab": {
          "base_uri": "https://localhost:8080/"
        },
        "id": "4acc496f",
        "outputId": "674c9a10-aa2a-4bb8-cd41-219b4467ecd8"
      },
      "outputs": [
        {
          "name": "stdout",
          "output_type": "stream",
          "text": [
            "0.8465\n"
          ]
        }
      ],
      "source": [
        "score=accuracy_score(y_test,y_pred)\n",
        "print(score)"
      ]
    },
    {
      "cell_type": "code",
      "execution_count": 83,
      "id": "2302dce3",
      "metadata": {
        "colab": {
          "base_uri": "https://localhost:8080/"
        },
        "id": "2302dce3",
        "outputId": "9a71b897-ae0e-431f-bbf9-251354d22938"
      },
      "outputs": [
        {
          "name": "stdout",
          "output_type": "stream",
          "text": [
            "              precision    recall  f1-score   support\n",
            "\n",
            "           0       0.12      0.89      0.21        46\n",
            "           1       1.00      0.85      0.91      1954\n",
            "\n",
            "    accuracy                           0.85      2000\n",
            "   macro avg       0.56      0.87      0.56      2000\n",
            "weighted avg       0.98      0.85      0.90      2000\n",
            "\n"
          ]
        }
      ],
      "source": [
        "from sklearn.metrics import classification_report\n",
        "print(classification_report(y_pred,y_test))"
      ]
    },
    {
      "cell_type": "markdown",
      "id": "66e4b3a7",
      "metadata": {
        "id": "66e4b3a7"
      },
      "source": [
        "## Word2vec Implementation"
      ]
    },
    {
      "cell_type": "code",
      "execution_count": 84,
      "id": "926402e4",
      "metadata": {
        "colab": {
          "base_uri": "https://localhost:8080/"
        },
        "id": "926402e4",
        "outputId": "193d880e-e4d2-4993-b070-1810d42913b9"
      },
      "outputs": [
        {
          "name": "stdout",
          "output_type": "stream",
          "text": [
            "Requirement already satisfied: gensim in /usr/local/lib/python3.10/dist-packages (4.3.2)\n",
            "Requirement already satisfied: numpy>=1.18.5 in /usr/local/lib/python3.10/dist-packages (from gensim) (1.23.5)\n",
            "Requirement already satisfied: scipy>=1.7.0 in /usr/local/lib/python3.10/dist-packages (from gensim) (1.11.4)\n",
            "Requirement already satisfied: smart-open>=1.8.1 in /usr/local/lib/python3.10/dist-packages (from gensim) (6.4.0)\n"
          ]
        }
      ],
      "source": [
        "!pip install gensim"
      ]
    },
    {
      "cell_type": "code",
      "execution_count": 85,
      "id": "ba480462",
      "metadata": {
        "colab": {
          "base_uri": "https://localhost:8080/"
        },
        "id": "ba480462",
        "outputId": "49e10f5b-acbc-4db2-a14a-ac7a8a6ee223"
      },
      "outputs": [
        {
          "name": "stdout",
          "output_type": "stream",
          "text": [
            "[==================================================] 100.0% 1662.8/1662.8MB downloaded\n"
          ]
        }
      ],
      "source": [
        "import gensim.downloader as api\n",
        "\n",
        "wv = api.load('word2vec-google-news-300')"
      ]
    },
    {
      "cell_type": "code",
      "execution_count": 86,
      "id": "ed79d04b",
      "metadata": {
        "id": "ed79d04b"
      },
      "outputs": [],
      "source": [
        "\n",
        "\n",
        "vec_king = wv['king']"
      ]
    },
    {
      "cell_type": "code",
      "execution_count": 87,
      "id": "c5bf696e",
      "metadata": {
        "colab": {
          "base_uri": "https://localhost:8080/"
        },
        "id": "c5bf696e",
        "outputId": "5dd94401-c17b-419f-be44-06cca83d0f1d"
      },
      "outputs": [
        {
          "data": {
            "text/plain": [
              "array([ 1.25976562e-01,  2.97851562e-02,  8.60595703e-03,  1.39648438e-01,\n",
              "       -2.56347656e-02, -3.61328125e-02,  1.11816406e-01, -1.98242188e-01,\n",
              "        5.12695312e-02,  3.63281250e-01, -2.42187500e-01, -3.02734375e-01,\n",
              "       -1.77734375e-01, -2.49023438e-02, -1.67968750e-01, -1.69921875e-01,\n",
              "        3.46679688e-02,  5.21850586e-03,  4.63867188e-02,  1.28906250e-01,\n",
              "        1.36718750e-01,  1.12792969e-01,  5.95703125e-02,  1.36718750e-01,\n",
              "        1.01074219e-01, -1.76757812e-01, -2.51953125e-01,  5.98144531e-02,\n",
              "        3.41796875e-01, -3.11279297e-02,  1.04492188e-01,  6.17675781e-02,\n",
              "        1.24511719e-01,  4.00390625e-01, -3.22265625e-01,  8.39843750e-02,\n",
              "        3.90625000e-02,  5.85937500e-03,  7.03125000e-02,  1.72851562e-01,\n",
              "        1.38671875e-01, -2.31445312e-01,  2.83203125e-01,  1.42578125e-01,\n",
              "        3.41796875e-01, -2.39257812e-02, -1.09863281e-01,  3.32031250e-02,\n",
              "       -5.46875000e-02,  1.53198242e-02, -1.62109375e-01,  1.58203125e-01,\n",
              "       -2.59765625e-01,  2.01416016e-02, -1.63085938e-01,  1.35803223e-03,\n",
              "       -1.44531250e-01, -5.68847656e-02,  4.29687500e-02, -2.46582031e-02,\n",
              "        1.85546875e-01,  4.47265625e-01,  9.58251953e-03,  1.31835938e-01,\n",
              "        9.86328125e-02, -1.85546875e-01, -1.00097656e-01, -1.33789062e-01,\n",
              "       -1.25000000e-01,  2.83203125e-01,  1.23046875e-01,  5.32226562e-02,\n",
              "       -1.77734375e-01,  8.59375000e-02, -2.18505859e-02,  2.05078125e-02,\n",
              "       -1.39648438e-01,  2.51464844e-02,  1.38671875e-01, -1.05468750e-01,\n",
              "        1.38671875e-01,  8.88671875e-02, -7.51953125e-02, -2.13623047e-02,\n",
              "        1.72851562e-01,  4.63867188e-02, -2.65625000e-01,  8.91113281e-03,\n",
              "        1.49414062e-01,  3.78417969e-02,  2.38281250e-01, -1.24511719e-01,\n",
              "       -2.17773438e-01, -1.81640625e-01,  2.97851562e-02,  5.71289062e-02,\n",
              "       -2.89306641e-02,  1.24511719e-02,  9.66796875e-02, -2.31445312e-01,\n",
              "        5.81054688e-02,  6.68945312e-02,  7.08007812e-02, -3.08593750e-01,\n",
              "       -2.14843750e-01,  1.45507812e-01, -4.27734375e-01, -9.39941406e-03,\n",
              "        1.54296875e-01, -7.66601562e-02,  2.89062500e-01,  2.77343750e-01,\n",
              "       -4.86373901e-04, -1.36718750e-01,  3.24218750e-01, -2.46093750e-01,\n",
              "       -3.03649902e-03, -2.11914062e-01,  1.25000000e-01,  2.69531250e-01,\n",
              "        2.04101562e-01,  8.25195312e-02, -2.01171875e-01, -1.60156250e-01,\n",
              "       -3.78417969e-02, -1.20117188e-01,  1.15234375e-01, -4.10156250e-02,\n",
              "       -3.95507812e-02, -8.98437500e-02,  6.34765625e-03,  2.03125000e-01,\n",
              "        1.86523438e-01,  2.73437500e-01,  6.29882812e-02,  1.41601562e-01,\n",
              "       -9.81445312e-02,  1.38671875e-01,  1.82617188e-01,  1.73828125e-01,\n",
              "        1.73828125e-01, -2.37304688e-01,  1.78710938e-01,  6.34765625e-02,\n",
              "        2.36328125e-01, -2.08984375e-01,  8.74023438e-02, -1.66015625e-01,\n",
              "       -7.91015625e-02,  2.43164062e-01, -8.88671875e-02,  1.26953125e-01,\n",
              "       -2.16796875e-01, -1.73828125e-01, -3.59375000e-01, -8.25195312e-02,\n",
              "       -6.49414062e-02,  5.07812500e-02,  1.35742188e-01, -7.47070312e-02,\n",
              "       -1.64062500e-01,  1.15356445e-02,  4.45312500e-01, -2.15820312e-01,\n",
              "       -1.11328125e-01, -1.92382812e-01,  1.70898438e-01, -1.25000000e-01,\n",
              "        2.65502930e-03,  1.92382812e-01, -1.74804688e-01,  1.39648438e-01,\n",
              "        2.92968750e-01,  1.13281250e-01,  5.95703125e-02, -6.39648438e-02,\n",
              "        9.96093750e-02, -2.72216797e-02,  1.96533203e-02,  4.27246094e-02,\n",
              "       -2.46093750e-01,  6.39648438e-02, -2.25585938e-01, -1.68945312e-01,\n",
              "        2.89916992e-03,  8.20312500e-02,  3.41796875e-01,  4.32128906e-02,\n",
              "        1.32812500e-01,  1.42578125e-01,  7.61718750e-02,  5.98144531e-02,\n",
              "       -1.19140625e-01,  2.74658203e-03, -6.29882812e-02, -2.72216797e-02,\n",
              "       -4.82177734e-03, -8.20312500e-02, -2.49023438e-02, -4.00390625e-01,\n",
              "       -1.06933594e-01,  4.24804688e-02,  7.76367188e-02, -1.16699219e-01,\n",
              "        7.37304688e-02, -9.22851562e-02,  1.07910156e-01,  1.58203125e-01,\n",
              "        4.24804688e-02,  1.26953125e-01,  3.61328125e-02,  2.67578125e-01,\n",
              "       -1.01074219e-01, -3.02734375e-01, -5.76171875e-02,  5.05371094e-02,\n",
              "        5.26428223e-04, -2.07031250e-01, -1.38671875e-01, -8.97216797e-03,\n",
              "       -2.78320312e-02, -1.41601562e-01,  2.07031250e-01, -1.58203125e-01,\n",
              "        1.27929688e-01,  1.49414062e-01, -2.24609375e-02, -8.44726562e-02,\n",
              "        1.22558594e-01,  2.15820312e-01, -2.13867188e-01, -3.12500000e-01,\n",
              "       -3.73046875e-01,  4.08935547e-03,  1.07421875e-01,  1.06933594e-01,\n",
              "        7.32421875e-02,  8.97216797e-03, -3.88183594e-02, -1.29882812e-01,\n",
              "        1.49414062e-01, -2.14843750e-01, -1.83868408e-03,  9.91210938e-02,\n",
              "        1.57226562e-01, -1.14257812e-01, -2.05078125e-01,  9.91210938e-02,\n",
              "        3.69140625e-01, -1.97265625e-01,  3.54003906e-02,  1.09375000e-01,\n",
              "        1.31835938e-01,  1.66992188e-01,  2.35351562e-01,  1.04980469e-01,\n",
              "       -4.96093750e-01, -1.64062500e-01, -1.56250000e-01, -5.22460938e-02,\n",
              "        1.03027344e-01,  2.43164062e-01, -1.88476562e-01,  5.07812500e-02,\n",
              "       -9.37500000e-02, -6.68945312e-02,  2.27050781e-02,  7.61718750e-02,\n",
              "        2.89062500e-01,  3.10546875e-01, -5.37109375e-02,  2.28515625e-01,\n",
              "        2.51464844e-02,  6.78710938e-02, -1.21093750e-01, -2.15820312e-01,\n",
              "       -2.73437500e-01, -3.07617188e-02, -3.37890625e-01,  1.53320312e-01,\n",
              "        2.33398438e-01, -2.08007812e-01,  3.73046875e-01,  8.20312500e-02,\n",
              "        2.51953125e-01, -7.61718750e-02, -4.66308594e-02, -2.23388672e-02,\n",
              "        2.99072266e-02, -5.93261719e-02, -4.66918945e-03, -2.44140625e-01,\n",
              "       -2.09960938e-01, -2.87109375e-01, -4.54101562e-02, -1.77734375e-01,\n",
              "       -2.79296875e-01, -8.59375000e-02,  9.13085938e-02,  2.51953125e-01],\n",
              "      dtype=float32)"
            ]
          },
          "execution_count": 87,
          "metadata": {},
          "output_type": "execute_result"
        }
      ],
      "source": [
        "vec_king"
      ]
    },
    {
      "cell_type": "code",
      "execution_count": 97,
      "id": "b-155wJ2qGvD",
      "metadata": {
        "colab": {
          "base_uri": "https://localhost:8080/"
        },
        "id": "b-155wJ2qGvD",
        "outputId": "6acba496-c49e-4c99-f4b0-8774ecc453e0"
      },
      "outputs": [
        {
          "name": "stderr",
          "output_type": "stream",
          "text": [
            "[nltk_data] Downloading package wordnet to /root/nltk_data...\n"
          ]
        },
        {
          "data": {
            "text/plain": [
              "True"
            ]
          },
          "execution_count": 97,
          "metadata": {},
          "output_type": "execute_result"
        }
      ],
      "source": [
        "import nltk\n",
        "nltk.download('wordnet')\n"
      ]
    },
    {
      "cell_type": "code",
      "execution_count": 98,
      "id": "93c6bfea",
      "metadata": {
        "id": "93c6bfea"
      },
      "outputs": [],
      "source": [
        "from nltk.stem import WordNetLemmatizer\n",
        "lemmatizer=WordNetLemmatizer()"
      ]
    },
    {
      "cell_type": "code",
      "execution_count": 99,
      "id": "6767e1ee",
      "metadata": {
        "id": "6767e1ee"
      },
      "outputs": [],
      "source": [
        "corpus = []\n",
        "for i in range(0, len(messages)):\n",
        "    review = re.sub('[^a-zA-Z]', ' ', messages['message'][i])\n",
        "    review = review.lower()\n",
        "    review = review.split()\n",
        "\n",
        "    review = [lemmatizer.lemmatize(word) for word in review if not word in stopwords.words('english')]\n",
        "    review = ' '.join(review)\n",
        "    corpus.append(review)"
      ]
    },
    {
      "cell_type": "code",
      "execution_count": null,
      "id": "4qiGRKLBpd0O",
      "metadata": {
        "id": "4qiGRKLBpd0O"
      },
      "outputs": [],
      "source": []
    },
    {
      "cell_type": "code",
      "execution_count": 100,
      "id": "d3dc02b0",
      "metadata": {
        "id": "d3dc02b0"
      },
      "outputs": [],
      "source": [
        "from nltk import sent_tokenize\n",
        "from gensim.utils import simple_preprocess"
      ]
    },
    {
      "cell_type": "code",
      "execution_count": null,
      "id": "864c9d80",
      "metadata": {
        "colab": {
          "base_uri": "https://localhost:8080/"
        },
        "id": "864c9d80",
        "outputId": "9442a85a-b27a-4587-b33b-4005655f9b23"
      },
      "outputs": [],
      "source": [
        "corpus"
      ]
    },
    {
      "cell_type": "code",
      "execution_count": 103,
      "id": "71099b31",
      "metadata": {
        "colab": {
          "base_uri": "https://localhost:8080/"
        },
        "id": "71099b31",
        "outputId": "bfd3d2b8-c24c-4f8f-cb17-37cec2fca5db"
      },
      "outputs": [
        {
          "name": "stderr",
          "output_type": "stream",
          "text": [
            "[nltk_data] Downloading package punkt to /root/nltk_data...\n",
            "[nltk_data]   Unzipping tokenizers/punkt.zip.\n"
          ]
        }
      ],
      "source": [
        "import nltk\n",
        "nltk.download('punkt')\n",
        "\n",
        "words=[]\n",
        "for sent in corpus:\n",
        "    sent_token=sent_tokenize(sent)\n",
        "    for sent in sent_token:\n",
        "        words.append(simple_preprocess(sent))"
      ]
    },
    {
      "cell_type": "code",
      "execution_count": null,
      "id": "adfb868a",
      "metadata": {
        "id": "adfb868a"
      },
      "outputs": [],
      "source": [
        "words"
      ]
    },
    {
      "cell_type": "code",
      "execution_count": 126,
      "id": "98zoE9scshaE",
      "metadata": {
        "colab": {
          "base_uri": "https://localhost:8080/"
        },
        "id": "98zoE9scshaE",
        "outputId": "ef210ade-5eff-4b21-f8f6-021a9355c318"
      },
      "outputs": [
        {
          "data": {
            "text/plain": [
              "10000"
            ]
          },
          "execution_count": 126,
          "metadata": {},
          "output_type": "execute_result"
        }
      ],
      "source": [
        "len(words)"
      ]
    },
    {
      "cell_type": "code",
      "execution_count": 105,
      "id": "f913e2fc",
      "metadata": {
        "id": "f913e2fc"
      },
      "outputs": [],
      "source": [
        "import gensim"
      ]
    },
    {
      "cell_type": "code",
      "execution_count": 106,
      "id": "c883b0da",
      "metadata": {
        "id": "c883b0da"
      },
      "outputs": [],
      "source": [
        "### Lets train Word2vec from scratch\n",
        "model=gensim.models.Word2Vec(words,window=5,min_count=2)"
      ]
    },
    {
      "cell_type": "code",
      "execution_count": null,
      "id": "322ce11b",
      "metadata": {
        "id": "322ce11b"
      },
      "outputs": [],
      "source": [
        "model.wv.index_to_key\n",
        "# output will be like this\n",
        "\"\"\"\n",
        "'cut',\n",
        " 'big',\n",
        " 'see',\n",
        " 'black',\n",
        " 'style',\n",
        " 'super',\n",
        " 'still',\n",
        " 'summer',\n",
        " 'right',\n",
        " 'true',\n",
        " 'design',\n",
        " 'white',\n",
        " 'arm',\n",
        "\"\"\""
      ]
    },
    {
      "cell_type": "code",
      "execution_count": 108,
      "id": "40382b5f",
      "metadata": {
        "colab": {
          "base_uri": "https://localhost:8080/"
        },
        "id": "40382b5f",
        "outputId": "1f987eba-ce5d-494e-a11d-841d06015fc4"
      },
      "outputs": [
        {
          "data": {
            "text/plain": [
              "10000"
            ]
          },
          "execution_count": 108,
          "metadata": {},
          "output_type": "execute_result"
        }
      ],
      "source": [
        "model.corpus_count"
      ]
    },
    {
      "cell_type": "code",
      "execution_count": 109,
      "id": "422ff626",
      "metadata": {
        "colab": {
          "base_uri": "https://localhost:8080/"
        },
        "id": "422ff626",
        "outputId": "2f3452d7-a297-4836-d49b-3ad65834263a"
      },
      "outputs": [
        {
          "data": {
            "text/plain": [
              "5"
            ]
          },
          "execution_count": 109,
          "metadata": {},
          "output_type": "execute_result"
        }
      ],
      "source": [
        "model.epochs"
      ]
    },
    {
      "cell_type": "code",
      "execution_count": 114,
      "id": "9c894f5f",
      "metadata": {
        "colab": {
          "base_uri": "https://localhost:8080/"
        },
        "id": "9c894f5f",
        "outputId": "eb29ab85-b8d4-40ca-b809-03b650236ea4"
      },
      "outputs": [
        {
          "data": {
            "text/plain": [
              "[('effortless', 0.9891857504844666),\n",
              " ('fresh', 0.9891389608383179),\n",
              " ('lbd', 0.9885360598564148),\n",
              " ('poncho', 0.988347053527832),\n",
              " ('notch', 0.988186776638031),\n",
              " ('boho', 0.9875732660293579),\n",
              " ('flannel', 0.9873949289321899),\n",
              " ('comfort', 0.9872851371765137),\n",
              " ('formal', 0.9862727522850037),\n",
              " ('sleek', 0.9862315058708191)]"
            ]
          },
          "execution_count": 114,
          "metadata": {},
          "output_type": "execute_result"
        }
      ],
      "source": [
        "model.wv.similar_by_word('awesome')"
      ]
    },
    {
      "cell_type": "code",
      "execution_count": 125,
      "id": "p6cK2DNPrZcV",
      "metadata": {
        "id": "p6cK2DNPrZcV"
      },
      "outputs": [],
      "source": [
        "# here you can note that when you will check similarity of a word with different word you will only get results for those words which are present in our vacab otherwise you\n",
        "# will get error hence this is limitation of word2vec"
      ]
    },
    {
      "cell_type": "code",
      "execution_count": 115,
      "id": "169a20c6",
      "metadata": {
        "colab": {
          "base_uri": "https://localhost:8080/"
        },
        "id": "169a20c6",
        "outputId": "dc811a8d-49af-4399-f8ee-cdecf057bf4c"
      },
      "outputs": [
        {
          "data": {
            "text/plain": [
              "(100,)"
            ]
          },
          "execution_count": 115,
          "metadata": {},
          "output_type": "execute_result"
        }
      ],
      "source": [
        "model.wv['kid'].shape"
      ]
    },
    {
      "cell_type": "markdown",
      "id": "0-egJj2FrwrA",
      "metadata": {
        "id": "0-egJj2FrwrA"
      },
      "source": [
        "# AvgWord2Vec\n",
        "It basically will combine vectors of all the words into a single capture which will represent the context of entire doc hence it becomes easy to work on simple data and also becomes comutationaly effective"
      ]
    },
    {
      "cell_type": "code",
      "execution_count": 116,
      "id": "9636b70e",
      "metadata": {
        "id": "9636b70e"
      },
      "outputs": [],
      "source": [
        "import numpy as np\n",
        "def avg_word2vec(doc):\n",
        "    # remove out-of-vocabulary words\n",
        "    #sent = [word for word in doc if word in model.wv.index_to_key]\n",
        "    #print(sent)\n",
        "\n",
        "    return np.mean([model.wv[word] for word in doc if word in model.wv.index_to_key],axis=0)\n",
        "                #or [np.zeros(len(model.wv.index_to_key))], axis=0)\n",
        "\n",
        "\n"
      ]
    },
    {
      "cell_type": "code",
      "execution_count": 117,
      "id": "41322fdc",
      "metadata": {
        "colab": {
          "base_uri": "https://localhost:8080/"
        },
        "id": "41322fdc",
        "outputId": "6878904c-7815-4caf-92c7-2ad07ff5b5c0"
      },
      "outputs": [
        {
          "name": "stdout",
          "output_type": "stream",
          "text": [
            "Requirement already satisfied: tqdm in /usr/local/lib/python3.10/dist-packages (4.66.1)\n"
          ]
        }
      ],
      "source": [
        "!pip install tqdm"
      ]
    },
    {
      "cell_type": "code",
      "execution_count": 118,
      "id": "a0c796ad",
      "metadata": {
        "id": "a0c796ad"
      },
      "outputs": [],
      "source": [
        "from tqdm import tqdm"
      ]
    },
    {
      "cell_type": "code",
      "execution_count": 119,
      "id": "c714c020",
      "metadata": {
        "colab": {
          "base_uri": "https://localhost:8080/"
        },
        "id": "c714c020",
        "outputId": "df2c4c1a-8092-462b-a31b-e9f206396171"
      },
      "outputs": [
        {
          "data": {
            "text/plain": [
              "['love',\n",
              " 'top',\n",
              " 'loose',\n",
              " 'comfortable',\n",
              " 'sheer',\n",
              " 'need',\n",
              " 'cami',\n",
              " 'run',\n",
              " 'little',\n",
              " 'large',\n",
              " 'size',\n",
              " 'want',\n",
              " 'tailored',\n",
              " 'fit',\n",
              " 'criticism',\n",
              " 'catch',\n",
              " 'sharp',\n",
              " 'jewelry',\n",
              " 'belt',\n",
              " 'pull',\n",
              " 'careful']"
            ]
          },
          "execution_count": 119,
          "metadata": {},
          "output_type": "execute_result"
        }
      ],
      "source": [
        "words[73]"
      ]
    },
    {
      "cell_type": "code",
      "execution_count": 120,
      "id": "56664011",
      "metadata": {
        "colab": {
          "base_uri": "https://localhost:8080/"
        },
        "id": "56664011",
        "outputId": "b211a91a-c8d7-4434-f13a-0d3ece8a50e3"
      },
      "outputs": [
        {
          "data": {
            "text/plain": [
              "list"
            ]
          },
          "execution_count": 120,
          "metadata": {},
          "output_type": "execute_result"
        }
      ],
      "source": [
        "type(model.wv.index_to_key)"
      ]
    },
    {
      "cell_type": "markdown",
      "id": "-_jYu7-1sRAP",
      "metadata": {
        "id": "-_jYu7-1sRAP"
      },
      "source": [
        "words is our whole 10000 word vocabulary here basically I am applying avgword2vec technique on entire vocab"
      ]
    },
    {
      "cell_type": "code",
      "execution_count": null,
      "id": "17192759",
      "metadata": {
        "id": "17192759",
        "scrolled": true
      },
      "outputs": [],
      "source": [
        "#apply for the entire sentences\n",
        "X=[]\n",
        "for i in tqdm(range(len(words))):\n",
        "    print(\"Hello\",i)\n",
        "    X.append(avg_word2vec(words[i]))\n",
        "\n"
      ]
    },
    {
      "cell_type": "code",
      "execution_count": 127,
      "id": "39014c34",
      "metadata": {
        "colab": {
          "base_uri": "https://localhost:8080/"
        },
        "id": "39014c34",
        "outputId": "a62e8821-2752-4b13-d8e4-f847d10dbf78"
      },
      "outputs": [
        {
          "data": {
            "text/plain": [
              "list"
            ]
          },
          "execution_count": 127,
          "metadata": {},
          "output_type": "execute_result"
        }
      ],
      "source": [
        "type(X)"
      ]
    },
    {
      "cell_type": "code",
      "execution_count": 122,
      "id": "031621cb",
      "metadata": {
        "id": "031621cb"
      },
      "outputs": [],
      "source": [
        "X_new=np.array(X) # converting  resulted list of avgword2vec into array"
      ]
    },
    {
      "cell_type": "code",
      "execution_count": 128,
      "id": "qlNXndLdsx-r",
      "metadata": {
        "colab": {
          "base_uri": "https://localhost:8080/"
        },
        "id": "qlNXndLdsx-r",
        "outputId": "1afeaec3-e2fe-47d6-821a-0c6b362426ee"
      },
      "outputs": [
        {
          "data": {
            "text/plain": [
              "(10000, 100)"
            ]
          },
          "execution_count": 128,
          "metadata": {},
          "output_type": "execute_result"
        }
      ],
      "source": [
        "X_new.shape"
      ]
    },
    {
      "cell_type": "code",
      "execution_count": 129,
      "id": "033d8e2e",
      "metadata": {
        "colab": {
          "base_uri": "https://localhost:8080/"
        },
        "id": "033d8e2e",
        "outputId": "7e017cd4-4b7f-4a82-ffaa-239f6cbc5387"
      },
      "outputs": [
        {
          "data": {
            "text/plain": [
              "array([-2.73199379e-01,  5.55540800e-01, -1.56061118e-02, -1.26572892e-01,\n",
              "        3.85282069e-01, -6.64354205e-01,  3.77285004e-01,  7.38218784e-01,\n",
              "       -6.58042490e-01, -2.58709878e-01, -9.78966877e-02, -5.49150884e-01,\n",
              "        3.15565467e-02,  2.18903255e-02,  3.80080521e-01, -8.07293534e-01,\n",
              "        8.36455524e-02, -1.24471886e-02,  1.22448839e-02, -6.58812702e-01,\n",
              "        8.02456662e-02,  2.45469660e-01,  2.06186593e-01, -4.06080961e-01,\n",
              "       -2.13711075e-02, -8.83131996e-02,  7.00565502e-02, -4.53295350e-01,\n",
              "       -2.53959298e-01, -9.69241336e-02,  3.41838628e-01, -8.07184726e-02,\n",
              "        2.20497623e-02, -4.84827697e-01, -2.02179521e-01,  1.28293812e-01,\n",
              "       -4.52629626e-02, -7.45428503e-02, -1.47160634e-01, -7.65272260e-01,\n",
              "        1.94095045e-01, -6.80646822e-02, -1.04374282e-01, -2.37962231e-02,\n",
              "        6.68991357e-02,  1.93350688e-02, -2.05553859e-01,  1.03466056e-01,\n",
              "        3.98542315e-01,  6.63628802e-02,  3.04475248e-01, -3.60151201e-01,\n",
              "       -1.28323473e-02, -1.11565873e-01, -1.53752461e-01, -1.81313455e-01,\n",
              "        1.83186233e-01, -1.50747448e-01, -3.37468266e-01,  2.42830649e-01,\n",
              "        1.35860234e-01,  9.99127254e-02,  1.41596809e-01, -2.19332650e-01,\n",
              "       -3.64847481e-01,  4.51690018e-01,  8.56122747e-03,  2.73308873e-01,\n",
              "       -7.70258486e-01,  3.75565499e-01, -1.75079837e-01,  4.82975602e-01,\n",
              "        6.12331927e-01,  2.31767371e-01,  3.59628558e-01,  1.07111566e-01,\n",
              "        2.84591496e-01,  3.11763422e-03, -4.11859959e-01, -4.70105447e-02,\n",
              "       -1.29277796e-01,  1.89601988e-01, -8.14951062e-01,  3.97023559e-01,\n",
              "       -2.98816234e-01, -7.33997786e-06,  4.44452688e-02,  7.52236992e-02,\n",
              "        4.77026194e-01, -9.88892615e-02,  5.74854493e-01,  4.07462776e-01,\n",
              "        3.48641090e-02,  1.11082822e-01,  4.92427737e-01,  3.89739126e-01,\n",
              "        3.15986663e-01, -3.30710024e-01,  3.65954638e-01, -1.99174285e-01],\n",
              "      dtype=float32)"
            ]
          },
          "execution_count": 129,
          "metadata": {},
          "output_type": "execute_result"
        }
      ],
      "source": [
        "X_new[1] # it is representing 100 dim vector representation of my first sentence of corpus"
      ]
    },
    {
      "cell_type": "code",
      "execution_count": 172,
      "id": "3818a347",
      "metadata": {
        "id": "3818a347"
      },
      "outputs": [],
      "source": [
        "# sent=corpus_small=corpus[1:100]\n",
        "sent=corpus"
      ]
    },
    {
      "cell_type": "code",
      "execution_count": 173,
      "id": "9ff33888",
      "metadata": {
        "colab": {
          "base_uri": "https://localhost:8080/"
        },
        "id": "9ff33888",
        "outputId": "a6759c47-234f-4384-9a02-a8f17096a1b7"
      },
      "outputs": [
        {
          "name": "stdout",
          "output_type": "stream",
          "text": [
            "10000\n"
          ]
        }
      ],
      "source": [
        "print(len(sent))"
      ]
    },
    {
      "cell_type": "code",
      "execution_count": null,
      "id": "uOWeyZtBuV1G",
      "metadata": {
        "id": "uOWeyZtBuV1G"
      },
      "outputs": [],
      "source": [
        "!pip install --upgrade pip\n"
      ]
    },
    {
      "cell_type": "code",
      "execution_count": null,
      "id": "LoGBpQwFufxx",
      "metadata": {
        "id": "LoGBpQwFufxx"
      },
      "outputs": [],
      "source": [
        "pip install --upgrade setuptools"
      ]
    },
    {
      "cell_type": "code",
      "execution_count": null,
      "id": "soZxnI6Pv8dn",
      "metadata": {
        "id": "soZxnI6Pv8dn"
      },
      "outputs": [],
      "source": [
        "pip uninstall tensorflow tensorflow-gpu\n"
      ]
    },
    {
      "cell_type": "code",
      "execution_count": null,
      "id": "ad06f104",
      "metadata": {
        "id": "ad06f104"
      },
      "outputs": [],
      "source": [
        "pip install tensorflow-gpu\n"
      ]
    },
    {
      "cell_type": "code",
      "execution_count": null,
      "id": "BJabGsZ7wgK0",
      "metadata": {
        "id": "BJabGsZ7wgK0"
      },
      "outputs": [],
      "source": [
        "!pip install tensorflow\n"
      ]
    },
    {
      "cell_type": "code",
      "execution_count": 147,
      "id": "S_yC90rcuNTC",
      "metadata": {
        "colab": {
          "base_uri": "https://localhost:8080/"
        },
        "id": "S_yC90rcuNTC",
        "outputId": "34baab29-e695-46a9-9e21-2cbae6deffa0"
      },
      "outputs": [
        {
          "name": "stdout",
          "output_type": "stream",
          "text": [
            "2.15.0\n"
          ]
        }
      ],
      "source": [
        "import tensorflow as tf\n",
        "print(tf.__version__)\n"
      ]
    },
    {
      "cell_type": "code",
      "execution_count": 148,
      "id": "gVwCh3ZNwrPP",
      "metadata": {
        "id": "gVwCh3ZNwrPP"
      },
      "outputs": [],
      "source": [
        "##tensorflow >2.0\n",
        "from tensorflow.keras.preprocessing.text import one_hot"
      ]
    },
    {
      "cell_type": "code",
      "execution_count": 149,
      "id": "62FsApIGwrTp",
      "metadata": {
        "id": "62FsApIGwrTp"
      },
      "outputs": [],
      "source": [
        "### Vocabulary size\n",
        "voc_size=1000"
      ]
    },
    {
      "cell_type": "markdown",
      "id": "j-nwLn1cw3Vu",
      "metadata": {
        "id": "j-nwLn1cw3Vu"
      },
      "source": [
        "# One hot representation"
      ]
    },
    {
      "cell_type": "code",
      "execution_count": null,
      "id": "NnCI6FCDwrWd",
      "metadata": {
        "colab": {
          "base_uri": "https://localhost:8080/"
        },
        "id": "NnCI6FCDwrWd",
        "outputId": "b73da512-5d8b-4783-a7c7-a8e3c649ea7d"
      },
      "outputs": [],
      "source": [
        "onehot_repr=[one_hot(words,voc_size)for words in sent]\n",
        "print(onehot_repr)"
      ]
    },
    {
      "cell_type": "code",
      "execution_count": 176,
      "id": "9DhpvAWdxuDj",
      "metadata": {
        "colab": {
          "base_uri": "https://localhost:8080/"
        },
        "id": "9DhpvAWdxuDj",
        "outputId": "568ca2c8-7ac0-48b3-8da4-7bfb49526d34"
      },
      "outputs": [
        {
          "name": "stdout",
          "output_type": "stream",
          "text": [
            "Length of the longest list: 58\n"
          ]
        }
      ],
      "source": [
        "max_size = max(len(sublist) for sublist in onehot_repr)\n",
        "\n",
        "print(\"Length of the longest list:\", max_size)"
      ]
    },
    {
      "cell_type": "markdown",
      "id": "0OSBMWQ4x4z-",
      "metadata": {
        "id": "0OSBMWQ4x4z-"
      },
      "source": [
        "Hence it is clear that max length of sentences is 50 so i should fix 50 as maxlen parameter"
      ]
    },
    {
      "cell_type": "markdown",
      "id": "T36j694ZxF7y",
      "metadata": {
        "id": "T36j694ZxF7y"
      },
      "source": [
        "# Word Embedding representation"
      ]
    },
    {
      "cell_type": "code",
      "execution_count": 151,
      "id": "f-VEI_0LwrZ_",
      "metadata": {
        "id": "f-VEI_0LwrZ_"
      },
      "outputs": [],
      "source": [
        "from tensorflow.keras.layers import Embedding\n",
        "from tensorflow.keras.preprocessing.sequence import pad_sequences\n",
        "from tensorflow.keras.models import Sequential"
      ]
    },
    {
      "cell_type": "code",
      "execution_count": 152,
      "id": "mPow6GR_wRJ6",
      "metadata": {
        "id": "mPow6GR_wRJ6"
      },
      "outputs": [],
      "source": [
        "import numpy as np"
      ]
    },
    {
      "cell_type": "code",
      "execution_count": 177,
      "id": "ygU8ndDnxTiq",
      "metadata": {
        "colab": {
          "base_uri": "https://localhost:8080/"
        },
        "id": "ygU8ndDnxTiq",
        "outputId": "f43fdbb1-69bb-47e5-d42b-d05f770dcbc3"
      },
      "outputs": [
        {
          "name": "stdout",
          "output_type": "stream",
          "text": [
            "[[  0   0   0 ... 809 240 766]\n",
            " [  0   0   0 ... 505 777 939]\n",
            " [  0   0 426 ... 198 551 255]\n",
            " ...\n",
            " [  0   0   0 ... 695 915 267]\n",
            " [  0   0   0 ... 210 405 229]\n",
            " [  0   0   0 ... 632 712 356]]\n"
          ]
        }
      ],
      "source": [
        "## pre padding\n",
        "sent_length=50\n",
        "embedded_docs=pad_sequences(onehot_repr,padding='pre',maxlen=sent_length)\n",
        "print(embedded_docs)"
      ]
    },
    {
      "cell_type": "code",
      "execution_count": 178,
      "id": "34MvWqX45VjS",
      "metadata": {
        "colab": {
          "base_uri": "https://localhost:8080/"
        },
        "id": "34MvWqX45VjS",
        "outputId": "c5aa30fb-705b-42e3-bd6e-207d2668d2ce"
      },
      "outputs": [
        {
          "data": {
            "text/plain": [
              "10000"
            ]
          },
          "execution_count": 178,
          "metadata": {},
          "output_type": "execute_result"
        }
      ],
      "source": [
        "len(embedded_docs)"
      ]
    },
    {
      "cell_type": "code",
      "execution_count": 179,
      "id": "5th-A-dnyNKq",
      "metadata": {
        "id": "5th-A-dnyNKq"
      },
      "outputs": [],
      "source": [
        "## 20 feature dimesnions\n",
        "dim=40\n"
      ]
    },
    {
      "cell_type": "code",
      "execution_count": 180,
      "id": "SCr-fmWeyTyw",
      "metadata": {
        "id": "SCr-fmWeyTyw"
      },
      "outputs": [],
      "source": [
        "model=Sequential()\n",
        "model.add(Embedding(voc_size,20,input_length=sent_length))\n",
        "model.compile('adam','mse')"
      ]
    },
    {
      "cell_type": "code",
      "execution_count": 181,
      "id": "rO71RKEayZfn",
      "metadata": {
        "colab": {
          "base_uri": "https://localhost:8080/"
        },
        "id": "rO71RKEayZfn",
        "outputId": "42e838fa-2c56-4dc5-8d3a-d037d18ce6b2"
      },
      "outputs": [
        {
          "name": "stdout",
          "output_type": "stream",
          "text": [
            "Model: \"sequential_2\"\n",
            "_________________________________________________________________\n",
            " Layer (type)                Output Shape              Param #   \n",
            "=================================================================\n",
            " embedding_2 (Embedding)     (None, 50, 20)            20000     \n",
            "                                                                 \n",
            "=================================================================\n",
            "Total params: 20000 (78.12 KB)\n",
            "Trainable params: 20000 (78.12 KB)\n",
            "Non-trainable params: 0 (0.00 Byte)\n",
            "_________________________________________________________________\n"
          ]
        }
      ],
      "source": [
        "model.summary()"
      ]
    },
    {
      "cell_type": "code",
      "execution_count": 182,
      "id": "xH5ZMPXrybps",
      "metadata": {
        "colab": {
          "base_uri": "https://localhost:8080/",
          "height": 35
        },
        "id": "xH5ZMPXrybps",
        "outputId": "f438d3da-c1eb-4cf0-9c59-4b8769785d46"
      },
      "outputs": [
        {
          "data": {
            "application/vnd.google.colaboratory.intrinsic+json": {
              "type": "string"
            },
            "text/plain": [
              "'absolutely wonderful silky sexy comfortable'"
            ]
          },
          "execution_count": 182,
          "metadata": {},
          "output_type": "execute_result"
        }
      ],
      "source": [
        "corpus[0]"
      ]
    },
    {
      "cell_type": "code",
      "execution_count": 183,
      "id": "QVTq4N-pyjlz",
      "metadata": {
        "colab": {
          "base_uri": "https://localhost:8080/"
        },
        "id": "QVTq4N-pyjlz",
        "outputId": "bb78373d-49d0-4926-fbd5-7d9c8f35c075"
      },
      "outputs": [
        {
          "data": {
            "text/plain": [
              "array([  0,   0,   0,   0,   0,   0,   0,   0,   0,   0,   0,   0,   0,\n",
              "         0,   0,   0,   0,   0,   0,   0,   0,   0,   0,   0,   0,   0,\n",
              "         0,   0,   0,   0,   0,   0,   0,   0,   0,   0,   0,   0,   0,\n",
              "         0,   0,   0,   0,   0,   0, 686, 976, 809, 240, 766], dtype=int32)"
            ]
          },
          "execution_count": 183,
          "metadata": {},
          "output_type": "execute_result"
        }
      ],
      "source": [
        "embedded_docs[0] # vector representation of first sentence with max length 50 and along with pre padding"
      ]
    },
    {
      "cell_type": "code",
      "execution_count": null,
      "id": "gC1xf4V-ypDy",
      "metadata": {
        "colab": {
          "base_uri": "https://localhost:8080/"
        },
        "id": "gC1xf4V-ypDy",
        "outputId": "ab9cff47-df6f-437e-9a19-ae9b37b1ab96"
      },
      "outputs": [],
      "source": [
        "model.predict(embedded_docs[0]) # in output we can also see each sentence is representing by 20 features(note 20 values )"
      ]
    },
    {
      "cell_type": "code",
      "execution_count": null,
      "id": "OggjrEDEy_In",
      "metadata": {
        "colab": {
          "base_uri": "https://localhost:8080/"
        },
        "id": "OggjrEDEy_In",
        "outputId": "b7688f19-6000-4465-fba4-580f2736a73b"
      },
      "outputs": [],
      "source": [
        "print(model.predict(embedded_docs))"
      ]
    },
    {
      "cell_type": "code",
      "execution_count": 186,
      "id": "jZtieXZRzI6j",
      "metadata": {
        "id": "jZtieXZRzI6j"
      },
      "outputs": [],
      "source": [
        "## Creating model\n",
        "embedding_vector_features=40 ##features representation\n",
        "model2=Sequential()\n",
        "model2.add(Embedding(voc_size,embedding_vector_features,input_length=sent_length))\n"
      ]
    },
    {
      "cell_type": "code",
      "execution_count": 187,
      "id": "MFlcBNwH3d6b",
      "metadata": {
        "colab": {
          "base_uri": "https://localhost:8080/"
        },
        "id": "MFlcBNwH3d6b",
        "outputId": "463922ce-bd53-4f7d-a137-7f6f06f5ca11"
      },
      "outputs": [
        {
          "name": "stdout",
          "output_type": "stream",
          "text": [
            "Model: \"sequential_3\"\n",
            "_________________________________________________________________\n",
            " Layer (type)                Output Shape              Param #   \n",
            "=================================================================\n",
            " embedding_3 (Embedding)     (None, 50, 40)            40000     \n",
            "                                                                 \n",
            " lstm_1 (LSTM)               (None, 100)               56400     \n",
            "                                                                 \n",
            " dense_1 (Dense)             (None, 1)                 101       \n",
            "                                                                 \n",
            "=================================================================\n",
            "Total params: 96501 (376.96 KB)\n",
            "Trainable params: 96501 (376.96 KB)\n",
            "Non-trainable params: 0 (0.00 Byte)\n",
            "_________________________________________________________________\n",
            "None\n"
          ]
        }
      ],
      "source": [
        "from tensorflow.keras.layers import LSTM, Dense\n",
        "model2.add(LSTM(100))\n",
        "model2.add(Dense(1,activation='sigmoid'))\n",
        "model2.compile(loss='binary_crossentropy',optimizer='adam',metrics=['accuracy'])\n",
        "print(model2.summary())"
      ]
    },
    {
      "cell_type": "code",
      "execution_count": 188,
      "id": "7XCne6OQ3e97",
      "metadata": {
        "colab": {
          "base_uri": "https://localhost:8080/"
        },
        "id": "7XCne6OQ3e97",
        "outputId": "e36b12a1-23af-4166-8648-9674aaa5dd1b"
      },
      "outputs": [
        {
          "data": {
            "text/plain": [
              "(10000, (10000,))"
            ]
          },
          "execution_count": 188,
          "metadata": {},
          "output_type": "execute_result"
        }
      ],
      "source": [
        "len(embedded_docs),y.shape"
      ]
    },
    {
      "cell_type": "code",
      "execution_count": 189,
      "id": "Zv03Fp5z38eT",
      "metadata": {
        "id": "Zv03Fp5z38eT"
      },
      "outputs": [],
      "source": [
        "import numpy as np\n",
        "X_final=np.array(embedded_docs)\n",
        "y_final=np.array(y)"
      ]
    },
    {
      "cell_type": "code",
      "execution_count": 190,
      "id": "QBmSSvBZ4KFW",
      "metadata": {
        "colab": {
          "base_uri": "https://localhost:8080/"
        },
        "id": "QBmSSvBZ4KFW",
        "outputId": "0242f0fc-e94d-4c8c-a313-98987eed08b6"
      },
      "outputs": [
        {
          "data": {
            "text/plain": [
              "((10000, 50), (10000,))"
            ]
          },
          "execution_count": 190,
          "metadata": {},
          "output_type": "execute_result"
        }
      ],
      "source": [
        "X_final.shape,y_final.shape"
      ]
    },
    {
      "cell_type": "code",
      "execution_count": 191,
      "id": "fto9gqcf4Mom",
      "metadata": {
        "id": "fto9gqcf4Mom"
      },
      "outputs": [],
      "source": [
        "from sklearn.model_selection import train_test_split\n",
        "X_train, X_test, y_train, y_test = train_test_split(X_final, y_final, test_size=0.33, random_state=42)"
      ]
    },
    {
      "cell_type": "code",
      "execution_count": 193,
      "id": "K7oNm00K6Gn_",
      "metadata": {
        "colab": {
          "base_uri": "https://localhost:8080/"
        },
        "id": "K7oNm00K6Gn_",
        "outputId": "29c617a2-3fa5-47b1-b074-002c594b0c7c"
      },
      "outputs": [
        {
          "name": "stdout",
          "output_type": "stream",
          "text": [
            "Epoch 1/10\n",
            "105/105 [==============================] - 11s 53ms/step - loss: 0.4398 - accuracy: 0.8224 - val_loss: 0.3267 - val_accuracy: 0.8615\n",
            "Epoch 2/10\n",
            "105/105 [==============================] - 6s 53ms/step - loss: 0.2787 - accuracy: 0.8819 - val_loss: 0.3122 - val_accuracy: 0.8676\n",
            "Epoch 3/10\n",
            "105/105 [==============================] - 7s 71ms/step - loss: 0.2458 - accuracy: 0.8975 - val_loss: 0.3095 - val_accuracy: 0.8682\n",
            "Epoch 4/10\n",
            "105/105 [==============================] - 9s 83ms/step - loss: 0.2302 - accuracy: 0.9072 - val_loss: 0.3262 - val_accuracy: 0.8648\n",
            "Epoch 5/10\n",
            "105/105 [==============================] - 8s 79ms/step - loss: 0.2079 - accuracy: 0.9163 - val_loss: 0.3408 - val_accuracy: 0.8685\n",
            "Epoch 6/10\n",
            "105/105 [==============================] - 5s 49ms/step - loss: 0.1917 - accuracy: 0.9249 - val_loss: 0.3558 - val_accuracy: 0.8606\n",
            "Epoch 7/10\n",
            "105/105 [==============================] - 7s 66ms/step - loss: 0.1769 - accuracy: 0.9331 - val_loss: 0.3604 - val_accuracy: 0.8597\n",
            "Epoch 8/10\n",
            "105/105 [==============================] - 5s 49ms/step - loss: 0.1624 - accuracy: 0.9394 - val_loss: 0.4093 - val_accuracy: 0.8597\n",
            "Epoch 9/10\n",
            "105/105 [==============================] - 6s 58ms/step - loss: 0.1517 - accuracy: 0.9446 - val_loss: 0.4188 - val_accuracy: 0.8609\n",
            "Epoch 10/10\n",
            "105/105 [==============================] - 5s 49ms/step - loss: 0.1445 - accuracy: 0.9470 - val_loss: 0.4119 - val_accuracy: 0.8436\n"
          ]
        },
        {
          "data": {
            "text/plain": [
              "<keras.src.callbacks.History at 0x7ad3108a07f0>"
            ]
          },
          "execution_count": 193,
          "metadata": {},
          "output_type": "execute_result"
        }
      ],
      "source": [
        "### Finally Training\n",
        "model2.fit(X_train,y_train,validation_data=(X_test,y_test),epochs=10,batch_size=64)"
      ]
    },
    {
      "cell_type": "markdown",
      "id": "vZW7JZ3p6owD",
      "metadata": {
        "id": "vZW7JZ3p6owD"
      },
      "source": [
        "# from LSTM also accuracy is 86% on training data"
      ]
    },
    {
      "cell_type": "markdown",
      "id": "We8U7_2C6Wic",
      "metadata": {
        "id": "We8U7_2C6Wic"
      },
      "source": [
        "# Adding Dropout Layer"
      ]
    },
    {
      "cell_type": "code",
      "execution_count": 194,
      "id": "aE3DV4yw6KxW",
      "metadata": {
        "id": "aE3DV4yw6KxW"
      },
      "outputs": [],
      "source": [
        "from tensorflow.keras.layers import Dropout\n",
        "## Creating model\n",
        "embedding_vector_features=40\n",
        "model=Sequential()\n",
        "model.add(Embedding(voc_size,embedding_vector_features,input_length=sent_length))\n",
        "model.add(Dropout(0.3))\n",
        "model.add(LSTM(100))\n",
        "model.add(Dropout(0.3))\n",
        "model.add(Dense(1,activation='sigmoid'))\n",
        "model.compile(loss='binary_crossentropy',optimizer='adam',metrics=['accuracy'])"
      ]
    },
    {
      "cell_type": "code",
      "execution_count": 195,
      "id": "yEB3pnzJ6t4q",
      "metadata": {
        "colab": {
          "base_uri": "https://localhost:8080/"
        },
        "id": "yEB3pnzJ6t4q",
        "outputId": "fd5ee1df-273d-410d-9bbf-44239ed6f52f"
      },
      "outputs": [
        {
          "name": "stdout",
          "output_type": "stream",
          "text": [
            "104/104 [==============================] - 2s 13ms/step\n"
          ]
        }
      ],
      "source": [
        "y_pred=model.predict(X_test)"
      ]
    },
    {
      "cell_type": "code",
      "execution_count": 202,
      "id": "rkzlHY5m6xxX",
      "metadata": {
        "id": "rkzlHY5m6xxX"
      },
      "outputs": [],
      "source": [
        "y_pred=np.where(y_pred > 0.4, 1,0) ##AUC ROC Curve"
      ]
    },
    {
      "cell_type": "code",
      "execution_count": 203,
      "id": "3VIuqWps61JY",
      "metadata": {
        "id": "3VIuqWps61JY"
      },
      "outputs": [],
      "source": [
        "from sklearn.metrics import confusion_matrix"
      ]
    },
    {
      "cell_type": "code",
      "execution_count": 204,
      "id": "DxGlHR_M63wo",
      "metadata": {
        "colab": {
          "base_uri": "https://localhost:8080/"
        },
        "id": "DxGlHR_M63wo",
        "outputId": "ffb36386-d330-489b-af66-8976b6ab097c"
      },
      "outputs": [
        {
          "data": {
            "text/plain": [
              "array([[ 576,    0],\n",
              "       [2724,    0]])"
            ]
          },
          "execution_count": 204,
          "metadata": {},
          "output_type": "execute_result"
        }
      ],
      "source": [
        "confusion_matrix(y_test,y_pred)"
      ]
    },
    {
      "cell_type": "code",
      "execution_count": null,
      "id": "b6rA5BvC659z",
      "metadata": {
        "id": "b6rA5BvC659z"
      },
      "outputs": [],
      "source": [
        "from sklearn.metrics import accuracy_score\n",
        "accuracy_score(y_test,y_pred)"
      ]
    },
    {
      "cell_type": "markdown",
      "id": "2HdCmoww1Ybv",
      "metadata": {
        "id": "2HdCmoww1Ybv"
      },
      "source": [
        "very bad accuracy and the reason might be we are using only 10,000 data samples"
      ]
    },
    {
      "cell_type": "code",
      "execution_count": null,
      "id": "cCqmkntT6_wb",
      "metadata": {
        "id": "cCqmkntT6_wb"
      },
      "outputs": [],
      "source": [
        "from sklearn.metrics import classification_report\n",
        "print(classification_report(y_test,y_pred))"
      ]
    },
    {
      "cell_type": "code",
      "execution_count": null,
      "id": "hxBUHYoB28il",
      "metadata": {
        "id": "hxBUHYoB28il"
      },
      "outputs": [],
      "source": []
    },
    {
      "cell_type": "code",
      "execution_count": null,
      "id": "E3whyBVY7Jz4",
      "metadata": {
        "id": "E3whyBVY7Jz4"
      },
      "outputs": [],
      "source": []
    }
  ],
  "metadata": {
    "colab": {
      "provenance": []
    },
    "kernelspec": {
      "display_name": "Python 3 (ipykernel)",
      "language": "python",
      "name": "python3"
    },
    "language_info": {
      "codemirror_mode": {
        "name": "ipython",
        "version": 3
      },
      "file_extension": ".py",
      "mimetype": "text/x-python",
      "name": "python",
      "nbconvert_exporter": "python",
      "pygments_lexer": "ipython3",
      "version": "3.9.7"
    }
  },
  "nbformat": 4,
  "nbformat_minor": 5
}
